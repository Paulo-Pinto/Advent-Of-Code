{
 "cells": [
  {
   "cell_type": "code",
   "execution_count": 1,
   "metadata": {
    "collapsed": true
   },
   "outputs": [
    {
     "name": "stdout",
     "output_type": "stream",
     "text": [
      "('x', 655)\n",
      "('y', 447)\n",
      "('x', 327)\n",
      "('y', 223)\n",
      "('x', 163)\n",
      "('y', 111)\n",
      "('x', 81)\n",
      "('y', 55)\n",
      "('x', 40)\n",
      "('y', 27)\n",
      "('y', 13)\n",
      "('y', 6)\n"
     ]
    }
   ],
   "source": [
    "import numpy as np\n",
    "folds_left = []\n",
    "coordinates = []\n",
    "max_row, max_col = 0, 0\n",
    "\n",
    "\n",
    "def read_file():\n",
    "    global folds_left, max_row, max_col\n",
    "    with open(\"input_13\") as f:\n",
    "        for x in f.readlines():\n",
    "            if \"fold along\" in x:\n",
    "                x = x.strip(\"\\n\").split(\" \")[2:]\n",
    "                coord, value = \"\".join(x).split(\"=\")\n",
    "                folds_left.append((coord, int(value)))\n",
    "                # print(f\"fold {coord} {value}\")\n",
    "            else:\n",
    "                col, row = x.strip(\"\\n\").split(\",\")\n",
    "                col, row = int(col), int(row)\n",
    "                coordinates.append((row, col))\n",
    "                max_col = col if col > max_col else max_col\n",
    "                max_row = row if row > max_row else max_row\n",
    "                # print(f\"coords {a} {b}\")\n",
    "    max_col += 1\n",
    "    max_row += 1\n",
    "\n",
    "# this one is wrong, duplicating entries\n",
    "def fold_vertically(n):\n",
    "    global max_row, max_col, paper\n",
    "    for row in range(n + 1):\n",
    "        for col in range(max_col):\n",
    "            if paper[(max_row - 1) - row][col] == \"#\":\n",
    "                paper[row][col] = \"#\"\n",
    "\n",
    "    max_row = n\n",
    "    paper = np.resize(paper, (max_row, max_col))\n",
    "\n",
    "    return paper\n",
    "\n",
    "\n",
    "def fold_horizontally(n):\n",
    "    global max_row, max_col, paper\n",
    "    for row in range(max_row):\n",
    "        for col in range(n + 1):\n",
    "            if paper[row][(max_col - 1) - col] == \"#\":\n",
    "                paper[row][col] = \"#\"\n",
    "\n",
    "    max_col = n\n",
    "\n",
    "    # stupid workaround because np.resize doesnt work horizontally for some reason\n",
    "    t_p = np.empty((max_row, max_col)).astype(str)\n",
    "    for row in range(max_row):\n",
    "        for col in range(max_col):\n",
    "            t_p[row][col] = paper[row][col]\n",
    "\n",
    "    return t_p\n",
    "\n",
    "\n",
    "def fill():\n",
    "    global coordinates, max_row, max_col, paper\n",
    "\n",
    "    paper = np.empty((max_row, max_col)).astype(str)\n",
    "\n",
    "    for row in range(max_row):\n",
    "        for col in range(max_col):\n",
    "            if (row, col) in coordinates:\n",
    "                paper[row][col] = \"#\"\n",
    "            else:\n",
    "                paper[row][col] = \".\"\n",
    "\n",
    "    # print(paper)\n",
    "    return paper\n",
    "\n",
    "\n",
    "read_file()\n",
    "paper = fill()\n",
    "ctr = 0\n",
    "for fold in folds_left:\n",
    "    print(fold)\n",
    "    if fold[0] == \"y\":\n",
    "        paper = fold_vertically(fold[1])\n",
    "    # if fold[0] == \"x\":\n",
    "    #     paper = fold_horizontally(fold[1])\n",
    "\n",
    "# print(paper)\n",
    "\n",
    "with open(\"output.txt\", \"w\") as f:\n",
    "    for row in range(max_row):\n",
    "        for col in range(max_col):\n",
    "            f.write(str(paper[row][col]))\n",
    "        f.write(\"\\n\")"
   ]
  },
  {
   "cell_type": "code",
   "execution_count": 2,
   "outputs": [
    {
     "name": "stdout",
     "output_type": "stream",
     "text": [
      "True\n"
     ]
    }
   ],
   "source": [
    "a = [(6, 10), (0, 14), (9, 10), (0, 3), (10, 4), (4, 11), (6, 0), (6, 12), (4, 1), (0, 13), (10, 12), (3, 4), (3, 0),\n",
    "     (8, 4), (1, 10), (2, 14), (8, 10), (9, 0)]\n",
    "\n",
    "print((6, 10) in a)"
   ],
   "metadata": {
    "collapsed": false,
    "pycharm": {
     "name": "#%%\n"
    }
   }
  },
  {
   "cell_type": "code",
   "execution_count": 3,
   "outputs": [
    {
     "name": "stdout",
     "output_type": "stream",
     "text": [
      " # # # # . # . . # . # # # # . # . . . . # # # # . . # # # . # # # # . # # . . .\n",
      " # . # # . # . # # . # . # # . # . . . . # . # # . # # . # . # . # # . # # # # .\n",
      " # . # # . # # # # . # # # # . # . . . . # . # # . # . . # . # . # # . # # # # .\n",
      " # # # # . # # # # . # # # # . # . . . . # # # # . # . . . . # # # # . # # # # .\n",
      " # . # # . # . . # . # # # # . # . # # . # # # # . # # # . . # . # # . # # # # .\n",
      " # . # # . # . . # . # . . # . # # # # . # . # # . # # # # . # . . # . # . . # .\n"
     ]
    }
   ],
   "source": [
    "a = \"\"\" ['#' '#' '#' '#' '.' '#' '.' '.' '#' '.' '#' '#' '#' '#' '.' '#' '.' '.' '.' '.' '#' '#' '#' '#' '.' '.' '#' '#' '#' '.' '#' '#' '#' '#' '.' '#' '#' '.' '.' '.']\n",
    " ['#' '.' '#' '#' '.' '#' '.' '#' '#' '.' '#' '.' '#' '#' '.' '#' '.' '.' '.' '.' '#' '.' '#' '#' '.' '#' '#' '.' '#' '.' '#' '.' '#' '#' '.' '#' '#' '#' '#' '.']\n",
    " ['#' '.' '#' '#' '.' '#' '#' '#' '#' '.' '#' '#' '#' '#' '.' '#' '.' '.' '.' '.' '#' '.' '#' '#' '.' '#' '.' '.' '#' '.' '#' '.' '#' '#' '.' '#' '#' '#' '#' '.']\n",
    " ['#' '#' '#' '#' '.' '#' '#' '#' '#' '.' '#' '#' '#' '#' '.' '#' '.' '.' '.' '.' '#' '#' '#' '#' '.' '#' '.' '.' '.' '.' '#' '#' '#' '#' '.' '#' '#' '#' '#' '.']\n",
    " ['#' '.' '#' '#' '.' '#' '.' '.' '#' '.' '#' '#' '#' '#' '.' '#' '.' '#' '#' '.' '#' '#' '#' '#' '.' '#' '#' '#' '.' '.' '#' '.' '#' '#' '.' '#' '#' '#' '#' '.']\n",
    " ['#' '.' '#' '#' '.' '#' '.' '.' '#' '.' '#' '.' '.' '#' '.' '#' '#' '#' '#' '.' '#' '.' '#' '#' '.' '#' '#' '#' '#' '.' '#' '.' '.' '#' '.' '#' '.' '.' '#' '.']]\"\"\"\n",
    "print(a.replace(\"'\", \"\").replace(\"[\", \"\").replace(\"]\", \"\"))"
   ],
   "metadata": {
    "collapsed": false,
    "pycharm": {
     "name": "#%%\n"
    }
   }
  },
  {
   "cell_type": "code",
   "execution_count": 3,
   "outputs": [],
   "source": [],
   "metadata": {
    "collapsed": false,
    "pycharm": {
     "name": "#%%\n"
    }
   }
  }
 ],
 "metadata": {
  "kernelspec": {
   "display_name": "Python 3",
   "language": "python",
   "name": "python3"
  },
  "language_info": {
   "codemirror_mode": {
    "name": "ipython",
    "version": 2
   },
   "file_extension": ".py",
   "mimetype": "text/x-python",
   "name": "python",
   "nbconvert_exporter": "python",
   "pygments_lexer": "ipython2",
   "version": "2.7.6"
  }
 },
 "nbformat": 4,
 "nbformat_minor": 0
}