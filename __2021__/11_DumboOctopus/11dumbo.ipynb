{
 "cells": [
  {
   "cell_type": "code",
   "execution_count": 16,
   "metadata": {
    "collapsed": true
   },
   "outputs": [
    {
     "name": "stdout",
     "output_type": "stream",
     "text": [
      "[[3, 3, 2, 2, 8, 7, 4, 6, 5, 2], [5, 6, 3, 6, 5, 8, 8, 8, 5, 7], [7, 7, 5, 5, 1, 1, 7, 5, 4, 8], [5, 8, 5, 4, 1, 2, 1, 8, 3, 3], [2, 8, 5, 6, 6, 8, 2, 4, 7, 7], [3, 1, 2, 4, 8, 7, 3, 8, 1, 2], [1, 5, 4, 1, 3, 7, 2, 2, 5, 4], [8, 6, 3, 4, 3, 8, 3, 2, 3, 6], [2, 4, 2, 4, 3, 2, 3, 3, 4, 8], [2, 2, 6, 5, 6, 3, 5, 8, 4, 2]]\n"
     ]
    }
   ],
   "source": [
    "def read_file():\n",
    "    with open(\"input_11\") as f:\n",
    "        return [list(map(int, x.strip(\"\\n\"))) for x in f.readlines()]\n",
    "\n",
    "\n",
    "print(read_file())\n",
    "\n",
    "\n",
    "def print_board(b):\n",
    "    for row in b:\n",
    "        print(row)"
   ]
  },
  {
   "cell_type": "code",
   "execution_count": 18,
   "outputs": [
    {
     "name": "stdout",
     "output_type": "stream",
     "text": [
      "step 100 flashes 1613 times\n",
      "step 510 is the first one to flash simultaneously\n"
     ]
    }
   ],
   "source": [
    "octopi = read_file()\n",
    "flash_ctr = 0\n",
    "flashed = []\n",
    "\n",
    "def check_flash():\n",
    "    global octopi\n",
    "\n",
    "    # rows\n",
    "    for r in octopi:\n",
    "        if len(set(r)) != 1:  # check duplicates (set can't have dupes, length will differ)\n",
    "            return False\n",
    "\n",
    "    # cols\n",
    "    for c in range(len(octopi)):\n",
    "        seen = [octopi[0][c]]\n",
    "        for r in range(len(octopi)):\n",
    "            if octopi[r][c] not in seen:\n",
    "                return False\n",
    "\n",
    "    return True\n",
    "\n",
    "\n",
    "def part_1():\n",
    "    global octopi, flashed, flash_ctr\n",
    "    octopi = read_file()\n",
    "\n",
    "    step = 0\n",
    "    while step <= 300:\n",
    "        flashed = []\n",
    "        if step == 100:\n",
    "            flashed = []\n",
    "            return f\"step {step} flashes {flash_ctr} times\"\n",
    "\n",
    "        for row in range(len(octopi)):\n",
    "            for col in range(len(octopi)):\n",
    "                increase(row, col)\n",
    "\n",
    "        step += 1\n",
    "\n",
    "def part_2():\n",
    "    global octopi, flashed\n",
    "    octopi = read_file()\n",
    "\n",
    "    step = 0\n",
    "    while True:\n",
    "        flashed = []\n",
    "        if check_flash():\n",
    "            return f\"step {step} is the first one to flash simultaneously\"\n",
    "\n",
    "        for row in range(len(octopi)):\n",
    "            for col in range(len(octopi)):\n",
    "                increase(row, col)\n",
    "\n",
    "        step += 1\n",
    "        # safe space\n",
    "        if step == 999:\n",
    "            return\n",
    "\n",
    "\n",
    "\n",
    "def increase(row, col):\n",
    "    global octopi, flashed\n",
    "\n",
    "    if (row, col) not in flashed:\n",
    "        octopi[row][col] += 1\n",
    "        if octopi[row][col] > 9:\n",
    "            flash(row, col)\n",
    "\n",
    "\n",
    "def flash(row, col):\n",
    "    global octopi, flash_ctr, flashed\n",
    "    flash_ctr += 1\n",
    "    flashed.append((row, col))\n",
    "    octopi[row][col] = 0\n",
    "\n",
    "    # top\n",
    "    if row >= 1:\n",
    "        increase(row - 1, col)\n",
    "\n",
    "    # top - left\n",
    "    if row >= 1 and col >= 1:\n",
    "        increase(row - 1, col - 1)\n",
    "\n",
    "    # top - right\n",
    "    if row >= 1 and col < (len(octopi) - 1):\n",
    "        increase(row - 1, col + 1)\n",
    "\n",
    "    # left\n",
    "    if col >= 1:\n",
    "        increase(row, col - 1)\n",
    "\n",
    "    # right\n",
    "    if col < (len(octopi) - 1):\n",
    "        increase(row, col + 1)\n",
    "\n",
    "    # bot\n",
    "    if row < (len(octopi) - 1):\n",
    "        increase(row + 1, col)\n",
    "\n",
    "    # bot - left\n",
    "    if row < (len(octopi) - 1) and col >= 1:\n",
    "        increase(row + 1, col - 1)\n",
    "\n",
    "    # top - right\n",
    "    if row < (len(octopi) - 1) and col < (len(octopi) - 1):\n",
    "        increase(row + 1, col + 1)\n",
    "\n",
    "print(part_1())\n",
    "print(part_2())\n"
   ],
   "metadata": {
    "collapsed": false,
    "pycharm": {
     "name": "#%%\n"
    }
   }
  },
  {
   "cell_type": "code",
   "execution_count": 11,
   "outputs": [],
   "source": [],
   "metadata": {
    "collapsed": false,
    "pycharm": {
     "name": "#%%\n"
    }
   }
  },
  {
   "cell_type": "code",
   "execution_count": null,
   "outputs": [],
   "source": [],
   "metadata": {
    "collapsed": false,
    "pycharm": {
     "name": "#%%\n"
    }
   }
  }
 ],
 "metadata": {
  "kernelspec": {
   "display_name": "Python 3",
   "language": "python",
   "name": "python3"
  },
  "language_info": {
   "codemirror_mode": {
    "name": "ipython",
    "version": 2
   },
   "file_extension": ".py",
   "mimetype": "text/x-python",
   "name": "python",
   "nbconvert_exporter": "python",
   "pygments_lexer": "ipython2",
   "version": "2.7.6"
  }
 },
 "nbformat": 4,
 "nbformat_minor": 0
}