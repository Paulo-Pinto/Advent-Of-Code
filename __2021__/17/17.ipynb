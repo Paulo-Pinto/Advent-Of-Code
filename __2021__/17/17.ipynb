{
 "cells": [
  {
   "cell_type": "code",
   "execution_count": 103,
   "metadata": {
    "collapsed": true
   },
   "outputs": [
    {
     "data": {
      "text/plain": "(20, 30, -5, -10)"
     },
     "execution_count": 103,
     "metadata": {},
     "output_type": "execute_result"
    }
   ],
   "source": [
    "def read_file():\n",
    "    with open(\"input_simple\") as fp:\n",
    "        line = fp.readline()\n",
    "        # target area: x=20..30, y=-10..-5\n",
    "\n",
    "        line = line.replace(\"target area: \", \"\")\n",
    "\n",
    "        lx, ly = line.split(\", \")\n",
    "        # x=20..30 | y=-10..-5\n",
    "\n",
    "        minX, maxX = lx[2:].split(\"..\")\n",
    "        minY, maxY = ly[2:].split(\"..\")\n",
    "        # 20 | 30 | -10 | -5\n",
    "        minX, maxX, minY, maxY = int(minX), int(maxX), int(minY), int(maxY)\n",
    "\n",
    "        if abs(minX) > abs(maxX):\n",
    "            t = minX\n",
    "            minX = maxX\n",
    "            maxX = t\n",
    "\n",
    "        if abs(minY) > abs(maxY):\n",
    "            t = minY\n",
    "            minY = maxY\n",
    "            maxY = t\n",
    "\n",
    "        return int(minX), int(maxX), int(minY), int(maxY)\n",
    "\n",
    "\n",
    "read_file()"
   ]
  },
  {
   "cell_type": "code",
   "execution_count": 111,
   "outputs": [
    {
     "name": "stdout",
     "output_type": "stream",
     "text": [
      "I ENVY\n"
     ]
    }
   ],
   "source": [
    "def find(x, y, x_vel, y_vel):\n",
    "\n",
    "    minX, maxX, minY, maxY = read_file()\n",
    "    # print(minY, maxY)\n",
    "    minX, maxX, minY, maxY = minX + x, maxX + x, minY - abs(y), maxY - abs(y)\n",
    "\n",
    "    steps = 10\n",
    "\n",
    "    for _ in range(steps):\n",
    "        # print(x, y)\n",
    "\n",
    "        if abs(x) in range(abs(minX),abs(maxX)+1) and abs(y) in range(abs(minY),abs(maxY)+1):\n",
    "            print(\"I ENVY\")\n",
    "            return\n",
    "\n",
    "        # if abs(x) in range(abs(minX),abs(maxX)+1):\n",
    "        #     print(\"found x\")\n",
    "        #\n",
    "        # if abs(y) in range(abs(minY),abs(maxY)+1):\n",
    "        #     print(\"found y\")\n",
    "\n",
    "        x += x_vel\n",
    "        # stray further from god (or closer to 0)\n",
    "        x_vel -= int(x / abs(x)) if x_vel != 0 else 0\n",
    "\n",
    "        y += y_vel\n",
    "        y_vel -= 1\n",
    "\n",
    "    print(\"find god\")\n",
    "\n",
    "find(0,-4, 9,0)"
   ],
   "metadata": {
    "collapsed": false,
    "pycharm": {
     "name": "#%%\n"
    }
   }
  },
  {
   "cell_type": "code",
   "execution_count": 98,
   "outputs": [
    {
     "name": "stdout",
     "output_type": "stream",
     "text": [
      "-10\n",
      "False\n",
      "True\n",
      "-11\n",
      "False\n",
      "True\n",
      "-12\n",
      "False\n",
      "True\n",
      "-13\n",
      "False\n",
      "True\n"
     ]
    }
   ],
   "source": [],
   "metadata": {
    "collapsed": false,
    "pycharm": {
     "name": "#%%\n"
    }
   }
  },
  {
   "cell_type": "code",
   "execution_count": null,
   "outputs": [],
   "source": [],
   "metadata": {
    "collapsed": false,
    "pycharm": {
     "name": "#%%\n"
    }
   }
  }
 ],
 "metadata": {
  "kernelspec": {
   "display_name": "Python 3",
   "language": "python",
   "name": "python3"
  },
  "language_info": {
   "codemirror_mode": {
    "name": "ipython",
    "version": 2
   },
   "file_extension": ".py",
   "mimetype": "text/x-python",
   "name": "python",
   "nbconvert_exporter": "python",
   "pygments_lexer": "ipython2",
   "version": "2.7.6"
  }
 },
 "nbformat": 4,
 "nbformat_minor": 0
}