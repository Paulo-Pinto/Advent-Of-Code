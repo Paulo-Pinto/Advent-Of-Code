{
 "cells": [
  {
   "cell_type": "code",
   "execution_count": 30,
   "metadata": {
    "collapsed": true
   },
   "outputs": [
    {
     "name": "stdout",
     "output_type": "stream",
     "text": [
      "4186\n"
     ]
    }
   ],
   "source": [
    "from collections import Counter\n",
    "\n",
    "\n",
    "class Node:\n",
    "    def __init__(self, val):\n",
    "        self.val = val\n",
    "        self.next = []\n",
    "        self.big = (val.upper() == val)\n",
    "\n",
    "    def __str__(self):\n",
    "        return f\"\\n{self.val} -> {self.next}\"\n",
    "\n",
    "\n",
    "# global\n",
    "nodes = {}\n",
    "paths = []\n",
    "ctr = 0\n",
    "\n",
    "\n",
    "def read_lines():\n",
    "    global nodes\n",
    "    with open(\"input_12\") as f:\n",
    "        for x in f.readlines():\n",
    "            a, b = x.strip(\"\\n\").split(\"-\")\n",
    "\n",
    "            if b != \"start\":\n",
    "                if a in nodes.keys():\n",
    "                    nodes[a].next.append(b)\n",
    "                else:\n",
    "                    nodes[a] = Node(a)\n",
    "                    nodes[a].next.append(b)\n",
    "\n",
    "            if a != \"start\":\n",
    "                if b in nodes.keys():\n",
    "                    nodes[b].next.append(a)\n",
    "                else:\n",
    "                    nodes[b] = Node(b)\n",
    "                    nodes[b].next.append(a)\n",
    "        nodes[\"end\"].next = []\n",
    "\n",
    "\n",
    "# all -> bfs\n",
    "# read_lines()\n",
    "# for k,v in nodes.items():\n",
    "#     print(k, v.next)\n",
    "\n",
    "def dfs(node, path=[]):\n",
    "    global nodes, paths, ctr\n",
    "    path.append(node.val)\n",
    "    # print(path)\n",
    "    if node.val == \"end\":\n",
    "        paths.append(path)\n",
    "        # print(paths)\n",
    "        # print(path)\n",
    "        ctr += 1\n",
    "\n",
    "    for next_node in node.next:\n",
    "        n = nodes[next_node]\n",
    "\n",
    "        if n.big:\n",
    "            dfs(n, path)\n",
    "            path.pop()\n",
    "        else:\n",
    "            if n.val not in path:\n",
    "                dfs(n, path)\n",
    "                path.pop()\n",
    "\n",
    "\n",
    "read_lines()\n",
    "dfs(nodes[\"start\"], [])\n",
    "print(ctr)"
   ]
  },
  {
   "cell_type": "code",
   "execution_count": 31,
   "outputs": [
    {
     "name": "stdout",
     "output_type": "stream",
     "text": [
      "92111\n"
     ]
    }
   ],
   "source": [
    "# global\n",
    "nodes = {}\n",
    "paths = []\n",
    "ctr = 0\n",
    "\n",
    "\n",
    "def dfs2(node, path=[]):\n",
    "    global nodes, paths, ctr\n",
    "    path.append(node.val)\n",
    "    # print(path)\n",
    "    if node.val == \"end\":\n",
    "        paths.append(path)\n",
    "        # print(paths)\n",
    "        # print(path)\n",
    "        ctr += 1\n",
    "\n",
    "    for next_node in node.next:\n",
    "        n = nodes[next_node]\n",
    "\n",
    "        if n.big:\n",
    "            dfs2(n, path)\n",
    "            path.pop()\n",
    "        else:\n",
    "\n",
    "            twos = []\n",
    "\n",
    "            for k, v in Counter(path).items(): # iterate counter of uniques\n",
    "                if v == 2 and k.lower() == k: # check if small cave has been visited twice\n",
    "                    twos.append(k)\n",
    "\n",
    "            # a small cave has been checked twice\n",
    "            if len(twos) > 0:\n",
    "                # check before adding\n",
    "                if n.val not in path:\n",
    "                    dfs2(n, path)\n",
    "                    path.pop()\n",
    "            else: # small cave may repeat\n",
    "                dfs2(n, path)\n",
    "                path.pop()\n",
    "\n",
    "\n",
    "read_lines()\n",
    "\n",
    "dfs2(nodes[\"start\"], [])\n",
    "print(ctr)"
   ],
   "metadata": {
    "collapsed": false,
    "pycharm": {
     "name": "#%%\n"
    }
   }
  },
  {
   "cell_type": "code",
   "execution_count": 3,
   "outputs": [
    {
     "name": "stdout",
     "output_type": "stream",
     "text": [
      "0\n"
     ]
    }
   ],
   "source": [
    "ctr = 0\n",
    "print(ctr)"
   ],
   "metadata": {
    "collapsed": false,
    "pycharm": {
     "name": "#%%\n"
    }
   }
  },
  {
   "cell_type": "code",
   "execution_count": 2,
   "outputs": [
    {
     "name": "stdout",
     "output_type": "stream",
     "text": [
      "2\n"
     ]
    }
   ],
   "source": [
    "print(\"2\")\n"
   ],
   "metadata": {
    "collapsed": false,
    "pycharm": {
     "name": "#%%\n"
    }
   }
  },
  {
   "cell_type": "code",
   "execution_count": null,
   "outputs": [],
   "source": [],
   "metadata": {
    "collapsed": false,
    "pycharm": {
     "name": "#%%\n"
    }
   }
  }
 ],
 "metadata": {
  "kernelspec": {
   "display_name": "Python 3",
   "language": "python",
   "name": "python3"
  },
  "language_info": {
   "codemirror_mode": {
    "name": "ipython",
    "version": 2
   },
   "file_extension": ".py",
   "mimetype": "text/x-python",
   "name": "python",
   "nbconvert_exporter": "python",
   "pygments_lexer": "ipython2",
   "version": "2.7.6"
  }
 },
 "nbformat": 4,
 "nbformat_minor": 0
}