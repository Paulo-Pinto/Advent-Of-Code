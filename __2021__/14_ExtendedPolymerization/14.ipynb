{
 "cells": [
  {
   "cell_type": "code",
   "execution_count": 23,
   "metadata": {
    "collapsed": true
   },
   "outputs": [],
   "source": [
    "import functools\n",
    "from collections import Counter, OrderedDict\n",
    "import time\n",
    "\n",
    "# globals\n",
    "letter_counter = {}\n",
    "rules = {}\n",
    "code = \"\"\n",
    "step_goal = 18\n",
    "\n",
    "\n",
    "def setup():\n",
    "    global rules, code, letter_counter\n",
    "    rules = {}\n",
    "    letter_counter = {}\n",
    "    code = \"\"\n",
    "\n",
    "    with open(\"input_14\") as f:\n",
    "        for line in f.readlines():\n",
    "            if \"->\" not in line:\n",
    "                code = line.replace(\"\\n\", \"\")\n",
    "                for c in code:\n",
    "                    if c not in letter_counter.keys():\n",
    "                        letter_counter[c] = 0\n",
    "                    letter_counter[c] += 1\n",
    "            else:\n",
    "                rule = line.replace(\"\\n\", \"\").split(\" -> \")\n",
    "                rules[rule[0]] = rule[1]\n",
    "                if rule[1] not in letter_counter.keys():\n",
    "                    letter_counter[rule[1]] = 0\n",
    "\n",
    "\n",
    "def executionTime(func, steps=1):\n",
    "    start_time = time.time()\n",
    "    result = 0\n",
    "    if steps == 1:\n",
    "        result = func()\n",
    "    else:\n",
    "        for _ in range(steps):\n",
    "            result = func()\n",
    "    print(result)\n",
    "    execTime = (time.time() - start_time) * 1000\n",
    "    print(f\"{execTime:.5} ms total | {execTime / steps : .5} ms  / call\\n\")"
   ]
  },
  {
   "cell_type": "code",
   "execution_count": 24,
   "outputs": [
    {
     "name": "stdout",
     "output_type": "stream",
     "text": [
      "667355\n",
      "2614.8 ms total |  2614.8 ms  / call\n",
      "\n"
     ]
    }
   ],
   "source": [
    "def solve(steps):\n",
    "    global rules, code\n",
    "    for _ in range(steps):\n",
    "        new = \"\"\n",
    "\n",
    "        for i in range(1, len(code)):\n",
    "            prev, curr = code[i - 1], code[i]\n",
    "            # print(prev+curr, rules[prev + curr])\n",
    "            if i == 1:\n",
    "                new += prev\n",
    "            new += rules[prev + curr]\n",
    "            new += curr\n",
    "\n",
    "            # print(new)\n",
    "        code = new\n",
    "    return code\n",
    "\n",
    "\n",
    "def part_1():\n",
    "    global step_goal\n",
    "    setup()\n",
    "    final_code = solve(step_goal)\n",
    "    counts = OrderedDict(Counter(final_code).most_common())\n",
    "    keys = list(counts.keys())\n",
    "\n",
    "    # print(sorted(counts.values()))\n",
    "\n",
    "    return counts[keys[0]] - counts[keys[len(keys) - 1]]\n",
    "\n",
    "\n",
    "executionTime(part_1)"
   ],
   "metadata": {
    "collapsed": false,
    "pycharm": {
     "name": "#%%\n"
    }
   }
  },
  {
   "cell_type": "code",
   "execution_count": 25,
   "outputs": [
    {
     "name": "stdout",
     "output_type": "stream",
     "text": [
      "667355\n",
      "2515.9 ms total |  2515.9 ms  / call\n",
      "\n",
      "667355\n",
      "1471.3 ms total |  1471.3 ms  / call\n",
      "\n"
     ]
    }
   ],
   "source": [
    "# tirar o step de dentro da call, para a cache funcionar\n",
    "# TODO : testar contra uma nova função com esta implementação\n",
    "# @functools.cache\n",
    "def dig(prev, curr, step):\n",
    "    global rules, code, letter_counter, step_goal, ctr\n",
    "    if step >= step_goal:\n",
    "        return\n",
    "\n",
    "    res = rules[(prev + curr)]\n",
    "    letter_counter[res] += 1\n",
    "\n",
    "    dig(prev, res, step + 1)\n",
    "    dig(res, curr, step + 1)\n",
    "\n",
    "\n",
    "def part_2():\n",
    "    global rules, code, letter_counter, step_goal\n",
    "    setup()\n",
    "\n",
    "    for i in range(1, len(code)):\n",
    "        dig(code[i - 1], code[i], 0)\n",
    "\n",
    "    # print(sorted(letter_counter.values()))\n",
    "\n",
    "    return max(letter_counter.values()) - min(letter_counter.values())\n",
    "\n",
    "\n",
    "executionTime(part_1, 1)\n",
    "executionTime(part_2, 1)\n",
    "# this solution takes half as long, but still not fast enough for 40 :("
   ],
   "metadata": {
    "collapsed": false,
    "pycharm": {
     "name": "#%%\n"
    }
   }
  },
  {
   "cell_type": "code",
   "execution_count": 4,
   "outputs": [
    {
     "name": "stdout",
     "output_type": "stream",
     "text": [
      "57\n",
      "133\n",
      "310\n",
      "723\n",
      "1687\n",
      "3936\n",
      "9184\n",
      "21429\n",
      "50001\n",
      "116669\n",
      "272227\n",
      "635196\n",
      "1482124\n",
      "3458289\n",
      "8069341\n",
      "18828462\n",
      "43933078\n",
      "102510515\n",
      "239191201\n",
      "558112802\n",
      "1302263204\n",
      "3038614142\n",
      "7090099664\n",
      "16543565882\n",
      "38601653724\n",
      "90070525356\n",
      "210164559164\n",
      "490383971382\n",
      "1144229266558\n",
      "2669868288635\n",
      "6229692673481\n",
      "14535949571455\n",
      "33917215666728\n",
      "79140169889032\n",
      "184660396407741\n",
      "430874258284729\n",
      "1005373269331034\n",
      "2345870961772412\n",
      "5473698910802294\n",
      "12771964125205352\n"
     ]
    }
   ],
   "source": [
    "# how many iterations it would take\n",
    "for i in range(40):\n",
    "    # value of step 1\n",
    "    base = 57  # 4 letters -> 9, 20 letters -> 57\n",
    "    for x in range(i):\n",
    "        base = (base * 2) + (base // 3)\n",
    "    print(base)\n",
    "\n",
    "# 12771964125205352 nanoseconds ~= 147 days"
   ],
   "metadata": {
    "collapsed": false,
    "pycharm": {
     "name": "#%%\n"
    }
   }
  },
  {
   "cell_type": "code",
   "execution_count": 4,
   "outputs": [],
   "source": [],
   "metadata": {
    "collapsed": false,
    "pycharm": {
     "name": "#%%\n"
    }
   }
  }
 ],
 "metadata": {
  "kernelspec": {
   "display_name": "Python 3",
   "language": "python",
   "name": "python3"
  },
  "language_info": {
   "codemirror_mode": {
    "name": "ipython",
    "version": 2
   },
   "file_extension": ".py",
   "mimetype": "text/x-python",
   "name": "python",
   "nbconvert_exporter": "python",
   "pygments_lexer": "ipython2",
   "version": "2.7.6"
  }
 },
 "nbformat": 4,
 "nbformat_minor": 0
}