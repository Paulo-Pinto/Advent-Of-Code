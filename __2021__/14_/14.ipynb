{
 "cells": [
  {
   "cell_type": "code",
   "execution_count": 63,
   "metadata": {
    "collapsed": true
   },
   "outputs": [
    {
     "name": "stdout",
     "output_type": "stream",
     "text": [
      "VNVVKSNNFPBBBVSCVBBC\n"
     ]
    },
    {
     "ename": "KeyboardInterrupt",
     "evalue": "",
     "output_type": "error",
     "traceback": [
      "\u001B[1;31m---------------------------------------------------------------------------\u001B[0m",
      "\u001B[1;31mKeyboardInterrupt\u001B[0m                         Traceback (most recent call last)",
      "\u001B[1;32m<ipython-input-63-d901d1a33de7>\u001B[0m in \u001B[0;36m<module>\u001B[1;34m\u001B[0m\n\u001B[0;32m     37\u001B[0m \u001B[1;33m\u001B[0m\u001B[0m\n\u001B[0;32m     38\u001B[0m \u001B[0mreadToIntMatrix\u001B[0m\u001B[1;33m(\u001B[0m\u001B[1;33m)\u001B[0m\u001B[1;33m\u001B[0m\u001B[1;33m\u001B[0m\u001B[0m\n\u001B[1;32m---> 39\u001B[1;33m \u001B[0mfinal_code\u001B[0m \u001B[1;33m=\u001B[0m \u001B[0msolve\u001B[0m\u001B[1;33m(\u001B[0m\u001B[1;36m40\u001B[0m\u001B[1;33m)\u001B[0m\u001B[1;33m\u001B[0m\u001B[1;33m\u001B[0m\u001B[0m\n\u001B[0m\u001B[0;32m     40\u001B[0m \u001B[0mcounts\u001B[0m \u001B[1;33m=\u001B[0m \u001B[0mOrderedDict\u001B[0m\u001B[1;33m(\u001B[0m\u001B[0mCounter\u001B[0m\u001B[1;33m(\u001B[0m\u001B[0mfinal_code\u001B[0m\u001B[1;33m)\u001B[0m\u001B[1;33m.\u001B[0m\u001B[0mmost_common\u001B[0m\u001B[1;33m(\u001B[0m\u001B[1;33m)\u001B[0m\u001B[1;33m)\u001B[0m\u001B[1;33m\u001B[0m\u001B[1;33m\u001B[0m\u001B[0m\n\u001B[0;32m     41\u001B[0m \u001B[0mprint\u001B[0m\u001B[1;33m(\u001B[0m\u001B[0mcounts\u001B[0m\u001B[1;33m)\u001B[0m\u001B[1;33m\u001B[0m\u001B[1;33m\u001B[0m\u001B[0m\n",
      "\u001B[1;32m<ipython-input-63-d901d1a33de7>\u001B[0m in \u001B[0;36msolve\u001B[1;34m(steps)\u001B[0m\n\u001B[0;32m     30\u001B[0m                 \u001B[0mnew\u001B[0m \u001B[1;33m+=\u001B[0m \u001B[0mprev\u001B[0m\u001B[1;33m\u001B[0m\u001B[1;33m\u001B[0m\u001B[0m\n\u001B[0;32m     31\u001B[0m             \u001B[0mnew\u001B[0m \u001B[1;33m+=\u001B[0m \u001B[0mrules\u001B[0m\u001B[1;33m[\u001B[0m\u001B[0mprev\u001B[0m \u001B[1;33m+\u001B[0m \u001B[0mcurr\u001B[0m\u001B[1;33m]\u001B[0m\u001B[1;33m\u001B[0m\u001B[1;33m\u001B[0m\u001B[0m\n\u001B[1;32m---> 32\u001B[1;33m             \u001B[0mnew\u001B[0m \u001B[1;33m+=\u001B[0m \u001B[0mcurr\u001B[0m\u001B[1;33m\u001B[0m\u001B[1;33m\u001B[0m\u001B[0m\n\u001B[0m\u001B[0;32m     33\u001B[0m \u001B[1;33m\u001B[0m\u001B[0m\n\u001B[0;32m     34\u001B[0m             \u001B[1;31m# print(new)\u001B[0m\u001B[1;33m\u001B[0m\u001B[1;33m\u001B[0m\u001B[1;33m\u001B[0m\u001B[0m\n",
      "\u001B[1;31mKeyboardInterrupt\u001B[0m: "
     ]
    }
   ],
   "source": [
    "#globals\n",
    "from collections import Counter, OrderedDict\n",
    "\n",
    "rules = {}\n",
    "code = \"\"\n",
    "\n",
    "\n",
    "def readToIntMatrix():\n",
    "    global rules, code\n",
    "\n",
    "    with open(\"input_14\") as f:\n",
    "        for line in f.readlines():\n",
    "            if \"->\" not in line:\n",
    "                code = line.replace(\"\\n\", \"\")\n",
    "                print(code)\n",
    "            else:\n",
    "                rule = line.replace(\"\\n\", \"\").split(\" -> \")\n",
    "                rules[rule[0]] = rule[1]\n",
    "\n",
    "\n",
    "def solve(steps):\n",
    "    global rules, code\n",
    "    for _ in range(steps):\n",
    "        new = \"\"\n",
    "\n",
    "        for i in range(1, len(code)):\n",
    "            prev, curr = code[i-1], code[i]\n",
    "            # print(prev+curr, rules[prev + curr])\n",
    "            if i == 1:\n",
    "                new += prev\n",
    "            new += rules[prev + curr]\n",
    "            new += curr\n",
    "\n",
    "            # print(new)\n",
    "        code = new\n",
    "    return code\n",
    "\n",
    "readToIntMatrix()\n",
    "final_code = solve(40)\n",
    "counts = OrderedDict(Counter(final_code).most_common())\n",
    "print(counts)\n",
    "keys = list(counts.keys())\n",
    "print(keys)\n",
    "sum = counts[keys[0]] - counts[keys[len(keys)-1]]\n",
    "print(sum)\n",
    "\n",
    "\n",
    "\n",
    "\n"
   ]
  },
  {
   "cell_type": "code",
   "execution_count": null,
   "outputs": [],
   "source": [],
   "metadata": {
    "collapsed": false,
    "pycharm": {
     "name": "#%%\n"
    }
   }
  }
 ],
 "metadata": {
  "kernelspec": {
   "display_name": "Python 3",
   "language": "python",
   "name": "python3"
  },
  "language_info": {
   "codemirror_mode": {
    "name": "ipython",
    "version": 2
   },
   "file_extension": ".py",
   "mimetype": "text/x-python",
   "name": "python",
   "nbconvert_exporter": "python",
   "pygments_lexer": "ipython2",
   "version": "2.7.6"
  }
 },
 "nbformat": 4,
 "nbformat_minor": 0
}