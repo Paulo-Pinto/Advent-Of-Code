{
 "cells": [
  {
   "cell_type": "code",
   "execution_count": 97,
   "metadata": {
    "collapsed": true
   },
   "outputs": [
    {
     "name": "stdout",
     "output_type": "stream",
     "text": [
      "00111000000000000110111101000101001010010001001000000000\n",
      "['3', '8', '0', '0', '6', 'F', '4', '5', '2', '9', '1', '2', '0', '0']\n"
     ]
    }
   ],
   "source": [
    "def readToIntList(filename=\"input_16\"):\n",
    "    with open(filename) as f:\n",
    "        return [str(x) for x in f.readline()]\n",
    "\n",
    "\n",
    "bin_of = {\n",
    "    '0': \"0000\",\n",
    "    '1': \"0001\",\n",
    "    '2': \"0010\",\n",
    "    '3': \"0011\",\n",
    "    '4': \"0100\",\n",
    "    '5': \"0101\",\n",
    "    '6': \"0110\",\n",
    "    '7': \"0111\",\n",
    "    '8': \"1000\",\n",
    "    '9': \"1001\",\n",
    "    \"A\": \"1010\",\n",
    "    \"B\": \"1011\",\n",
    "    \"C\": \"1100\",\n",
    "    \"D\": \"1101\",\n",
    "    \"E\": \"1110\",\n",
    "    \"F\": \"1111\",\n",
    "}\n",
    "\n",
    "\n",
    "def convert_to_bin(h):\n",
    "    b = \"\"\n",
    "    for n in h:\n",
    "        b += bin_of[n]\n",
    "    return b\n",
    "\n",
    "\n",
    "convert_to_bin(hexa := readToIntList())\n",
    "binaries = convert_to_bin(hexa)\n",
    "print(binaries)\n",
    "print(hexa)\n",
    "\n",
    "\n",
    "def bin_to_int(_binary):\n",
    "    total = 0\n",
    "    for i, x in enumerate(reversed(_binary)):\n",
    "        if x == \"1\":\n",
    "            total += 2 ** i\n",
    "    print(_binary, total)\n",
    "    return total"
   ]
  },
  {
   "cell_type": "code",
   "execution_count": 96,
   "outputs": [
    {
     "name": "stdout",
     "output_type": "stream",
     "text": [
      "000000000011011\n",
      "000000000011011 13.5\n",
      "sbu 13.5\n"
     ]
    },
    {
     "ename": "TypeError",
     "evalue": "'float' object cannot be interpreted as an integer",
     "output_type": "error",
     "traceback": [
      "\u001B[1;31m---------------------------------------------------------------------------\u001B[0m",
      "\u001B[1;31mTypeError\u001B[0m                                 Traceback (most recent call last)",
      "\u001B[1;32m<ipython-input-96-99cb3888747d>\u001B[0m in \u001B[0;36m<module>\u001B[1;34m\u001B[0m\n\u001B[0;32m     17\u001B[0m     \u001B[0mprint\u001B[0m\u001B[1;33m(\u001B[0m\u001B[1;34m\"sbu \"\u001B[0m \u001B[1;33m+\u001B[0m \u001B[0mstr\u001B[0m\u001B[1;33m(\u001B[0m\u001B[0msubpackets_quant\u001B[0m\u001B[1;33m)\u001B[0m\u001B[1;33m)\u001B[0m\u001B[1;33m\u001B[0m\u001B[1;33m\u001B[0m\u001B[0m\n\u001B[0;32m     18\u001B[0m     \u001B[0mi\u001B[0m \u001B[1;33m=\u001B[0m \u001B[1;36m7\u001B[0m \u001B[1;33m+\u001B[0m \u001B[0m_next_bits\u001B[0m\u001B[1;33m\u001B[0m\u001B[1;33m\u001B[0m\u001B[0m\n\u001B[1;32m---> 19\u001B[1;33m     \u001B[1;32mfor\u001B[0m \u001B[0m_\u001B[0m \u001B[1;32min\u001B[0m \u001B[0mrange\u001B[0m\u001B[1;33m(\u001B[0m\u001B[0msubpackets_quant\u001B[0m\u001B[1;33m)\u001B[0m\u001B[1;33m:\u001B[0m\u001B[1;33m\u001B[0m\u001B[1;33m\u001B[0m\u001B[0m\n\u001B[0m\u001B[0;32m     20\u001B[0m         \u001B[0mthis_int\u001B[0m \u001B[1;33m=\u001B[0m \u001B[0mbinaries\u001B[0m\u001B[1;33m[\u001B[0m\u001B[0mi\u001B[0m\u001B[1;33m:\u001B[0m \u001B[1;33m(\u001B[0m\u001B[0mi\u001B[0m \u001B[1;33m:=\u001B[0m \u001B[0mi\u001B[0m \u001B[1;33m+\u001B[0m \u001B[0m_next_bits\u001B[0m\u001B[1;33m)\u001B[0m\u001B[1;33m]\u001B[0m\u001B[1;33m\u001B[0m\u001B[1;33m\u001B[0m\u001B[0m\n\u001B[0;32m     21\u001B[0m         \u001B[0mthis_int\u001B[0m \u001B[1;33m=\u001B[0m \u001B[0mbin_to_int\u001B[0m\u001B[1;33m(\u001B[0m\u001B[0mthis_int\u001B[0m\u001B[1;33m)\u001B[0m\u001B[1;33m\u001B[0m\u001B[1;33m\u001B[0m\u001B[0m\n",
      "\u001B[1;31mTypeError\u001B[0m: 'float' object cannot be interpreted as an integer"
     ]
    }
   ],
   "source": [
    "bits, labels = \"\", \"\"\n",
    "version, type_id, length_type_id = 0, 0, 0\n",
    "\n",
    "while True:\n",
    "    version = binaries[0:3]\n",
    "    type_id = binaries[3:6]\n",
    "    length_type_id = binaries[6:7]\n",
    "\n",
    "    bits += version + \" \" + type_id + \" \" + length_type_id\n",
    "    labels += \"VVV \" + \"TTT \" + \"I \"\n",
    "\n",
    "    if length_type_id == \"0\":\n",
    "        _next_bits = 15\n",
    "        # TODO : this packet\n",
    "        l = binaries[7: 7 + _next_bits]\n",
    "        print(l)\n",
    "        subpackets_quant = bin_to_int(l)\n",
    "        print(\"sbu \" + str(subpackets_quant))\n",
    "        i = 7 + _next_bits\n",
    "        for _ in range(subpackets_quant):\n",
    "            this_int = binaries[i: (i := i + _next_bits)]\n",
    "            this_int = bin_to_int(this_int)\n",
    "            print(this_int)\n",
    "\n",
    "    else:\n",
    "        _next_bits = 11\n",
    "        # TODO : subpackets\n",
    "\n",
    "\n",
    "    print(version, type_id, length_type_id)\n",
    "    print(bits)\n",
    "    print(labels)\n",
    "\n",
    "    break\n",
    "\n",
    "\n",
    "\n",
    "\n"
   ],
   "metadata": {
    "collapsed": false,
    "pycharm": {
     "name": "#%%\n"
    }
   }
  },
  {
   "cell_type": "code",
   "execution_count": 90,
   "outputs": [],
   "source": [],
   "metadata": {
    "collapsed": false,
    "pycharm": {
     "name": "#%%\n"
    }
   }
  },
  {
   "cell_type": "code",
   "execution_count": null,
   "outputs": [],
   "source": [],
   "metadata": {
    "collapsed": false,
    "pycharm": {
     "name": "#%%\n"
    }
   }
  }
 ],
 "metadata": {
  "kernelspec": {
   "display_name": "Python 3",
   "language": "python",
   "name": "python3"
  },
  "language_info": {
   "codemirror_mode": {
    "name": "ipython",
    "version": 2
   },
   "file_extension": ".py",
   "mimetype": "text/x-python",
   "name": "python",
   "nbconvert_exporter": "python",
   "pygments_lexer": "ipython2",
   "version": "2.7.6"
  }
 },
 "nbformat": 4,
 "nbformat_minor": 0
}