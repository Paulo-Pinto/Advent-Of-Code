{
 "cells": [
  {
   "cell_type": "code",
   "execution_count": 12,
   "metadata": {
    "collapsed": true
   },
   "outputs": [
    {
     "name": "stdout",
     "output_type": "stream",
     "text": [
      "11101110000000001101010000001100100000100011000001100000\n",
      "['E', 'E', '0', '0', 'D', '4', '0', 'C', '8', '2', '3', '0', '6', '0']\n"
     ]
    }
   ],
   "source": [
    "def readToIntList(filename=\"input_16\"):\n",
    "    with open(filename) as f:\n",
    "        return [str(x) for x in f.readline()]\n",
    "\n",
    "\n",
    "bin_of = {\n",
    "    \"0\": \"0000\",\n",
    "    \"1\": \"0001\",\n",
    "    \"2\": \"0010\",\n",
    "    \"3\": \"0011\",\n",
    "    \"4\": \"0100\",\n",
    "    \"5\": \"0101\",\n",
    "    \"6\": \"0110\",\n",
    "    \"7\": \"0111\",\n",
    "    \"8\": \"1000\",\n",
    "    \"9\": \"1001\",\n",
    "    \"A\": \"1010\",\n",
    "    \"B\": \"1011\",\n",
    "    \"C\": \"1100\",\n",
    "    \"D\": \"1101\",\n",
    "    \"E\": \"1110\",\n",
    "    \"F\": \"1111\",\n",
    "}\n",
    "\n",
    "\n",
    "def convert_to_bin(h):\n",
    "    b = \"\"\n",
    "    for n in h:\n",
    "        b += bin_of[n]\n",
    "    return b\n",
    "\n",
    "\n",
    "convert_to_bin(hexa := readToIntList())\n",
    "binaries = convert_to_bin(hexa)\n",
    "print(binaries)\n",
    "print(hexa)\n",
    "\n",
    "\n",
    "def bin_to_int(_binary):\n",
    "    total = 0\n",
    "    for i, x in enumerate(reversed(_binary)):\n",
    "        if x == \"1\":\n",
    "            total += 2**i\n",
    "    print(_binary, total)\n",
    "    return total"
   ]
  },
  {
   "cell_type": "code",
   "execution_count": 28,
   "outputs": [
    {
     "name": "stdout",
     "output_type": "stream",
     "text": [
      "11101110000000001101010000001100100000100011000001100000\n",
      "111 011 1\n",
      "VVV TTT I \n",
      "subpackets\n",
      "01010000001 641\n",
      "641\n",
      "10010000010 1154\n",
      "1154\n",
      "00110000011 387\n",
      "387\n",
      "111 011 1\n",
      "111 011 1\n",
      "VVV TTT I \n"
     ]
    }
   ],
   "source": [
    "print(binaries)\n",
    "bits, labels = \"\", \"\"\n",
    "version, type_id, length_type_id = 0, 0, 0\n",
    "\n",
    "binary_queue = [binaries]\n",
    "\n",
    "while True:\n",
    "    curr_binary = binary_queue.pop(0)\n",
    "\n",
    "    version = curr_binary[0:3]\n",
    "    type_id = curr_binary[3:6]\n",
    "    length_type_id = curr_binary[6:7]\n",
    "\n",
    "    bits += version + \" \" + type_id + \" \" + length_type_id\n",
    "    labels += \"VVV \" + \"TTT \" + \"I \"\n",
    "\n",
    "    print(bits)\n",
    "    print(labels)\n",
    "\n",
    "    if length_type_id == \"0\":\n",
    "        _next_bits = 15\n",
    "        # TODO : this packet\n",
    "        i = 7 + _next_bits\n",
    "        l = curr_binary[7:i]\n",
    "        subpackets_bit_length = bin_to_int(l)\n",
    "        print(\"sub bit length \" + str(subpackets_bit_length))\n",
    "\n",
    "        for _ in range(subpackets_bit_length):\n",
    "            this_int = curr_binary[i : (i := i + _next_bits)]\n",
    "            this_int = bin_to_int(this_int)\n",
    "            print(f\"this int {this_int}\")\n",
    "\n",
    "    else:\n",
    "        print(\"subpackets\")\n",
    "        _next_bits = 11\n",
    "\n",
    "        for _ in range(0, (len(curr_binary) - 7 - 11) // _next_bits):\n",
    "            this_int = curr_binary[18 + 11 * _ : 18 + 11 * _ + 11]\n",
    "            print(bin_to_int(this_int))\n",
    "\n",
    "        # TODO : subpackets\n",
    "\n",
    "    print(version, type_id, length_type_id)\n",
    "    print(bits)\n",
    "    print(labels)\n",
    "\n",
    "    break"
   ],
   "metadata": {
    "collapsed": false,
    "pycharm": {
     "name": "#%%\n"
    }
   }
  },
  {
   "cell_type": "code",
   "execution_count": 90,
   "outputs": [],
   "source": [],
   "metadata": {
    "collapsed": false,
    "pycharm": {
     "name": "#%%\n"
    }
   }
  },
  {
   "cell_type": "code",
   "execution_count": null,
   "outputs": [],
   "source": [],
   "metadata": {
    "collapsed": false,
    "pycharm": {
     "name": "#%%\n"
    }
   }
  }
 ],
 "metadata": {
  "kernelspec": {
   "display_name": "Python 3",
   "language": "python",
   "name": "python3"
  },
  "language_info": {
   "codemirror_mode": {
    "name": "ipython",
    "version": 2
   },
   "file_extension": ".py",
   "mimetype": "text/x-python",
   "name": "python",
   "nbconvert_exporter": "python",
   "pygments_lexer": "ipython2",
   "version": "2.7.6"
  }
 },
 "nbformat": 4,
 "nbformat_minor": 0
}