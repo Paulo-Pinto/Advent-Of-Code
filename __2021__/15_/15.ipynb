{
 "cells": [
  {
   "cell_type": "code",
   "execution_count": 1,
   "metadata": {
    "collapsed": true
   },
   "outputs": [
    {
     "name": "stdout",
     "output_type": "stream",
     "text": [
      "[[1, 1, 6, 3, 7, 5, 1, 7, 4, 2], [1, 3, 8, 1, 3, 7, 3, 6, 7, 2], [2, 1, 3, 6, 5, 1, 1, 3, 2, 8], [3, 6, 9, 4, 9, 3, 1, 5, 6, 9], [7, 4, 6, 3, 4, 1, 7, 1, 1, 1], [1, 3, 1, 9, 1, 2, 8, 1, 3, 7], [1, 3, 5, 9, 9, 1, 2, 4, 2, 1], [3, 1, 2, 5, 4, 2, 1, 6, 3, 9], [1, 2, 9, 3, 1, 3, 8, 5, 2, 1], [2, 3, 1, 1, 9, 4, 4, 5, 8, 1]]\n",
      "9 9\n"
     ]
    }
   ],
   "source": [
    "import functools\n",
    "import time\n",
    "\n",
    "\n",
    "def readToIntMatrix(filename):\n",
    "    with open(filename) as f:\n",
    "        return [list(map(int, x.strip(\"\\n\"))) for x in f.readlines()]\n",
    "\n",
    "\n",
    "data = readToIntMatrix(\"input_15_simple\")\n",
    "row_max, col_max = len(data) - 1, len(data[0]) - 1\n",
    "print(data)\n",
    "print(row_max, col_max)\n",
    "first_ele = data[0][0]\n",
    "lowest = 9999\n",
    "\n",
    "\n",
    "def executionTime(func, *args, steps=1):\n",
    "    global lowest\n",
    "    start_time = time.time()\n",
    "    result = 0\n",
    "    if steps == 1:\n",
    "        result = func(*args)\n",
    "    else:\n",
    "        for _ in range(steps):\n",
    "            lowest = 9999\n",
    "            result = func(*args)\n",
    "    print(result)\n",
    "    execTime = (time.time() - start_time) * 1000\n",
    "    print(f\"{execTime:.5} ms total | {execTime / steps : .5} ms  / call\\n\")"
   ]
  },
  {
   "cell_type": "code",
   "execution_count": 2,
   "outputs": [
    {
     "name": "stdout",
     "output_type": "stream",
     "text": [
      "final : 40\n"
     ]
    }
   ],
   "source": [
    "lowest = 9999\n",
    "\n",
    "\n",
    "@functools.cache\n",
    "def find(row, col, total=0):\n",
    "    global lowest\n",
    "    # print(row, col, total, lowest)\n",
    "    total += data[row][col]\n",
    "\n",
    "    if total > lowest:\n",
    "        return\n",
    "\n",
    "    if row == row_max and col == col_max:\n",
    "        # print(total)\n",
    "        if total < lowest:\n",
    "            # print(lowest)\n",
    "            lowest = total\n",
    "        return\n",
    "\n",
    "    if col < col_max:\n",
    "        find(row, col + 1, total)\n",
    "\n",
    "    if row < row_max:\n",
    "        find(row + 1, col, total)\n",
    "\n",
    "\n",
    "@functools.cache\n",
    "def find3(row, col, total=0):\n",
    "    global lowest\n",
    "    # print(row, col, total, lowest)\n",
    "    total += data[row][col]\n",
    "\n",
    "    if total > lowest:\n",
    "        return\n",
    "\n",
    "    if row == row_max and col == col_max:\n",
    "        # print(total)\n",
    "        if total < lowest:\n",
    "            # print(lowest)\n",
    "            lowest = total\n",
    "        return\n",
    "\n",
    "    # choosing the smallest path first is 80% faster\n",
    "    if col < col_max and row < row_max:\n",
    "        if data[row + 1][col] < data[row][col + 1] + 2:\n",
    "            find3(row + 1, col, total)\n",
    "            find3(row, col + 1, total)\n",
    "        else:\n",
    "            find3(row, col + 1, total)\n",
    "            find3(row + 1, col, total)\n",
    "    elif col < col_max:\n",
    "        find3(row, col + 1, total)\n",
    "    elif row < row_max:\n",
    "        find3(row + 1, col, total)\n",
    "\n",
    "\n",
    "find3(0, 0, 0)\n",
    "print(f\"final : {lowest - data[0][0]}\")\n",
    "\n",
    "# need djikstra or lookahead\n",
    "# cache saved the party!!"
   ],
   "metadata": {
    "collapsed": false,
    "pycharm": {
     "name": "#%%\n"
    }
   }
  },
  {
   "cell_type": "code",
   "execution_count": 3,
   "outputs": [
    {
     "name": "stdout",
     "output_type": "stream",
     "text": [
      "None\n",
      "0.0 ms total |  0.0 ms  / call\n",
      "\n",
      "final : 9998\n"
     ]
    }
   ],
   "source": [
    "lowest = 9999\n",
    "executionTime(find3, 0, 0, 0, steps=10)\n",
    "print(f\"final : {lowest - first_ele}\")"
   ],
   "metadata": {
    "collapsed": false,
    "pycharm": {
     "name": "#%%\n"
    }
   }
  },
  {
   "cell_type": "code",
   "execution_count": 4,
   "outputs": [
    {
     "name": "stdout",
     "output_type": "stream",
     "text": [
      "None\n",
      "0.0 ms total |  0.0 ms  / call\n",
      "\n",
      "final : 9998\n"
     ]
    }
   ],
   "source": [
    "lowest = 9999\n",
    "executionTime(find, 0, 0, 0, steps=100)\n",
    "print(f\"final : {lowest - first_ele}\")"
   ],
   "metadata": {
    "collapsed": false,
    "pycharm": {
     "name": "#%%\n"
    }
   }
  },
  {
   "cell_type": "code",
   "execution_count": 5,
   "outputs": [
    {
     "name": "stdout",
     "output_type": "stream",
     "text": [
      "[1, 1, 2, 1, 3, 6, 4, 3, 4, 1, 2, 1, 2, 1, 6, 3, 2, 1, 1]\n",
      "[1, 1, 2, 1, 3, 6, 4, 3, 4, 1, 2, 1, 2, 1, 6, 3, 2, 1, 1, 5, 2, 8, 4, 5, 3, 4, 4, 8, 2, 4, 2, 1, 3, 2, 1, 1]\n",
      "[1, 1, 2, 1, 3, 6, 4, 3, 4, 1, 2, 1, 2, 1, 6, 3, 2, 1, 1, 5, 2, 8, 4, 5, 3, 4, 4, 8, 2, 4, 2, 1, 3, 2, 1, 1, 6, 3, 8, 2, 1, 4, 2, 1, 4, 2, 1, 3, 2, 1, 9, 1, 2, 3, 4, 1, 3, 2, 1, 3, 1, 7, 1, 1, 4, 2, 1, 3, 2, 1, 3, 1, 1, 7, 8, 2, 1, 1, 9, 1, 2, 1, 2, 1, 6, 3, 4, 2, 4, 9, 1, 2, 4, 9, 5, 9, 4, 1, 2, 1, 2, 1, 6, 3, 4, 2, 8, 2, 1, 9, 1, 2, 1, 7, 1, 1, 3, 1, 1, 3, 1, 7, 1, 1, 4, 3, 1, 1, 1, 5, 1, 1, 3, 1, 1, 6, 1, 1, 5, 1, 1, 1, 5, 1, 1, 4, 2, 1, 3, 2, 1, 1]\n",
      "[1, 1, 2, 1, 3, 6, 4, 3, 4, 1, 2, 1, 2, 1, 6, 3, 2, 1, 1, 5, 2, 8, 4, 5, 3, 4, 4, 8, 2, 4, 2, 1, 3, 2, 1, 1, 6, 3, 8, 2, 1, 4, 2, 1, 4, 2, 1, 3, 2, 1, 9, 1, 2, 3, 4, 1, 3, 2, 1, 3, 1, 7, 1, 1, 4, 2, 1, 3, 2, 1, 3, 1, 1, 7, 8, 2, 1, 1, 9, 1, 2, 1, 2, 1, 6, 3, 4, 2, 4, 9, 1, 2, 4, 9, 5, 9, 4, 1, 2, 1, 2, 1, 6, 3, 4, 2, 8, 2, 1, 9, 1, 2, 1, 7, 1, 1, 3, 1, 1, 3, 1, 7, 1, 1, 4, 3, 1, 1, 1, 5, 1, 1, 3, 1, 1, 6, 1, 1, 5, 1, 1, 1, 5, 1, 1, 4, 2, 1, 3, 2, 1, 1, 6, 3, 3, 2, 1, 3, 2, 1, 1]\n",
      "final : 40\n",
      "[1, 1, 2, 1, 3, 6, 4, 3, 4, 1, 2, 1, 2, 1, 6, 3, 2, 1, 1, 5, 2, 8, 4, 5, 3, 4, 4, 8, 2, 4, 2, 1, 3, 2, 1, 1, 6, 3, 8, 2, 1, 4, 2, 1, 4, 2, 1, 3, 2, 1, 9, 1, 2, 3, 4, 1, 3, 2, 1, 3, 1, 7, 1, 1, 4, 2, 1, 3, 2, 1, 3, 1, 1, 7, 8, 2, 1, 1, 9, 1, 2, 1, 2, 1, 6, 3, 4, 2, 4, 9, 1, 2, 4, 9, 5, 9, 4, 1, 2, 1, 2, 1, 6, 3, 4, 2, 8, 2, 1, 9, 1, 2, 1, 7, 1, 1, 3, 1, 1, 3, 1, 7, 1, 1, 4, 3, 1, 1, 1, 5, 1, 1, 3, 1, 1, 6, 1, 1, 5, 1, 1, 1, 5, 1, 1, 4, 2, 1, 3, 2, 1, 1, 6, 3, 3, 2, 1, 3, 2, 1, 1, 7, 1, 1, 1, 7, 6, 1, 1, 3, 2, 7, 1, 1, 3, 2, 1, 3, 2, 7, 1, 1, 8, 2, 1, 3, 2, 6, 1, 1, 3, 2, 1, 9, 8, 5, 6, 1, 1, 3, 3, 1, 2, 1, 2, 1, 6, 5, 8, 3, 4, 4, 2, 8, 7, 1, 1, 4, 8, 2, 1, 9, 4, 1, 2, 1, 7, 1, 3, 1, 5, 1, 1, 1, 1, 9, 4, 3, 4, 1, 2, 1, 2, 1, 3, 4, 2, 4, 9, 1, 1, 7, 9, 1, 2, 1, 2, 9, 4, 1, 2, 1, 2, 1, 2, 1, 3, 1, 7, 1, 5, 6, 1, 5, 2, 5, 3, 1, 4, 1, 9, 1, 9, 3, 4, 9, 1, 2, 6, 4, 3, 1, 5, 2, 5, 3, 1, 1, 3, 4, 1, 9, 1, 1, 3, 1, 1, 9, 5, 3, 9, 9, 3, 1, 2, 3, 1, 1, 9, 9, 1, 3, 1, 2, 5, 3, 1, 1, 3, 4, 4, 1, 2, 1, 5, 2, 5, 4, 1, 9, 1, 3, 1, 9, 5, 6, 1, 5, 2, 5, 3, 1, 4, 9, 1, 9, 5, 9, 9, 9, 4, 3, 9, 1, 2, 1, 9, 4, 1, 2, 1, 3, 1, 1, 6, 1, 5, 2, 5, 9, 3, 4, 9, 1, 2, 3, 7, 1, 1, 3, 1, 2, 3, 1, 1, 9, 2, 9, 1, 1, 2, 5, 3, 1, 9, 1, 4, 1, 3, 4, 9, 2, 1, 6, 3, 4, 3, 3, 1, 2, 3, 1, 1, 9, 1, 2, 5, 3, 1, 4, 6, 1, 5, 2, 5, 4, 9, 9, 6, 4, 3, 1, 3, 1, 2, 3, 1, 5, 2, 5, 9, 1, 9, 4, 9, 4, 1, 1, 3, 1, 1, 6, 1, 5, 2, 3, 4, 1, 9, 1, 3, 1, 3, 6, 4, 3, 4, 1, 2, 1, 2, 1, 8, 2, 4, 9, 1, 7, 1, 1, 5, 1, 1, 1, 5, 1, 1, 4, 3, 7, 1, 1, 7, 6, 7, 1, 1, 3, 1, 1, 8, 3, 2, 8, 5, 6, 1, 1, 3, 1, 2, 1, 2, 1, 6, 8, 3, 4, 4, 2, 8, 7, 1, 1, 8, 1, 9, 3, 1, 5, 9, 4, 3, 4, 1, 2, 1, 2, 9, 1, 7, 9, 3, 1, 5, 6, 4, 3, 1, 5, 9, 9, 3, 1, 2, 3, 1, 1, 9, 9, 1, 2, 5, 3, 1, 4, 6, 1, 9, 9, 4, 3, 9, 9, 4, 3, 1, 6, 1, 5, 2, 3, 9, 8, 1, 3, 5, 1, 1, 3, 2, 8, 5, 6, 3, 1, 7, 1, 1, 3, 2, 6, 8, 5, 6, 3, 1, 3, 1, 3, 2, 6, 8, 6, 3, 2, 5, 7, 6, 5, 1, 1, 1, 5, 7, 1, 3, 2, 8, 5, 6, 3, 1, 3, 6, 5, 1, 1, 3, 2, 9, 4, 1, 3, 1, 9, 4, 3, 4, 9, 9, 3, 6, 1, 5, 2, 3, 1, 6, 3, 1, 3, 7, 3, 6, 3, 2, 7, 2, 2, 6, 5, 1, 1, 1, 5, 3, 2, 8, 3, 1, 2, 1, 2, 9, 3, 1, 7, 3, 5, 1, 7, 1, 1, 3, 2, 3, 1, 3, 2, 6, 3, 5, 1, 7, 4, 2, 2, 7, 1, 3, 1, 3, 2, 6, 8, 1, 3, 7, 3, 1, 6, 3, 2, 6, 4, 5, 9, 4, 3, 1, 3, 6, 5, 9, 9, 4, 3, 9, 6, 1, 5, 3]\n"
     ]
    }
   ],
   "source": [
    "path = []\n",
    "\n",
    "\n",
    "@functools.cache\n",
    "def find_path(row, col, total=0):\n",
    "    global lowest\n",
    "    # print(row, col, total, lowest)\n",
    "    total += data[row][col]\n",
    "    path.append(data[row][col])\n",
    "\n",
    "    if total > lowest:\n",
    "        path.pop()\n",
    "        return\n",
    "\n",
    "    if row == row_max and col == col_max:\n",
    "        # print(total)\n",
    "        if total < lowest:\n",
    "            # print(lowest)\n",
    "            lowest = total\n",
    "            print(path)\n",
    "        return\n",
    "\n",
    "    # choosing the smallest path first is 80% faster\n",
    "    if col < col_max and row < row_max:\n",
    "        if data[row + 1][col] < data[row][col + 1] + 2:\n",
    "            find_path(row + 1, col, total)\n",
    "            find_path(row, col + 1, total)\n",
    "        else:\n",
    "            find_path(row, col + 1, total)\n",
    "            find_path(row + 1, col, total)\n",
    "    elif col < col_max:\n",
    "        find_path(row, col + 1, total)\n",
    "    elif row < row_max:\n",
    "        find_path(row + 1, col, total)\n",
    "\n",
    "\n",
    "find_path(0, 0, 0)\n",
    "print(f\"final : {lowest - data[0][0]}\")\n",
    "print(path)"
   ],
   "metadata": {
    "collapsed": false,
    "pycharm": {
     "name": "#%%\n"
    }
   }
  },
  {
   "cell_type": "code",
   "execution_count": 6,
   "outputs": [],
   "source": [
    "# i guess just create a bigger file"
   ],
   "metadata": {
    "collapsed": false,
    "pycharm": {
     "name": "#%%\n"
    }
   }
  }
 ],
 "metadata": {
  "kernelspec": {
   "display_name": "Python 3",
   "language": "python",
   "name": "python3"
  },
  "language_info": {
   "codemirror_mode": {
    "name": "ipython",
    "version": 2
   },
   "file_extension": ".py",
   "mimetype": "text/x-python",
   "name": "python",
   "nbconvert_exporter": "python",
   "pygments_lexer": "ipython2",
   "version": "2.7.6"
  }
 },
 "nbformat": 4,
 "nbformat_minor": 0
}