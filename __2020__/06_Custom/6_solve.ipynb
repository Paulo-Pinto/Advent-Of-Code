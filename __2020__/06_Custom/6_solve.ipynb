{
 "cells": [
  {
   "cell_type": "markdown",
   "id": "aa5fed30",
   "metadata": {},
   "source": [
    "## Part One + Two"
   ]
  },
  {
   "cell_type": "code",
   "execution_count": 29,
   "id": "ccd23236",
   "metadata": {},
   "outputs": [
    {
     "name": "stdout",
     "output_type": "stream",
     "text": [
      "3316\n"
     ]
    }
   ],
   "source": [
    "def read_file(type=\"test\"):\n",
    "    with open(type) as fp:\n",
    "        answers = []\n",
    "        first = True\n",
    "        for line in fp.readlines():\n",
    "\n",
    "            x = line.strip()\n",
    "\n",
    "            # next group\n",
    "            if x == \"\":\n",
    "                first = True\n",
    "                yield len(answers)\n",
    "            else:\n",
    "                if first:\n",
    "                    answers = list(x)\n",
    "                    first = False\n",
    "\n",
    "                # answers = list(set(list(x)) | set(list(answers)))  # part one\n",
    "                answers = list(set(list(x)) & set(list(answers)))  # part two\n",
    "\n",
    "ans = list(read_file(\"input\"))\n",
    "print(sum((ans)))"
   ]
  },
  {
   "cell_type": "markdown",
   "id": "934936c7",
   "metadata": {},
   "source": [
    "15 minutes, solved the second part first lol. gotta be mindful of eof errors, wasted a lot of time figuring out that I was reading an extra line and that was changing the sum..."
   ]
  }
 ],
 "metadata": {
  "kernelspec": {
   "display_name": "Python 3.10.4 64-bit",
   "language": "python",
   "name": "python3"
  },
  "language_info": {
   "codemirror_mode": {
    "name": "ipython",
    "version": 3
   },
   "file_extension": ".py",
   "mimetype": "text/x-python",
   "name": "python",
   "nbconvert_exporter": "python",
   "pygments_lexer": "ipython3",
   "version": "3.10.4"
  },
  "vscode": {
   "interpreter": {
    "hash": "369f2c481f4da34e4445cda3fffd2e751bd1c4d706f27375911949ba6bb62e1c"
   }
  }
 },
 "nbformat": 4,
 "nbformat_minor": 5
}
