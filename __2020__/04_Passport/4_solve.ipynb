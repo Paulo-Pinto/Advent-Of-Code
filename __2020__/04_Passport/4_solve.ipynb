{
 "cells": [
  {
   "cell_type": "markdown",
   "id": "de7bf41e",
   "metadata": {},
   "source": [
    "## Part One"
   ]
  },
  {
   "cell_type": "code",
   "execution_count": 1,
   "id": "e08ba188",
   "metadata": {},
   "outputs": [
    {
     "data": {
      "text/plain": [
       "196"
      ]
     },
     "execution_count": 1,
     "metadata": {},
     "output_type": "execute_result"
    }
   ],
   "source": [
    "passport_fields = [\"byr\", \"iyr\", \"eyr\", \"hgt\", \"hcl\", \"ecl\", \"pid\"]\n",
    "\n",
    "\n",
    "def pt1(type=\"test\"):\n",
    "    ctr = 0\n",
    "    with open(type) as fp:\n",
    "        n = {}\n",
    "        for line in fp.readlines():\n",
    "            # when blank line check passport\n",
    "            if len(line) == 1:\n",
    "                if all([_ in n.keys() for _ in passport_fields]):\n",
    "                    ctr += 1\n",
    "                n = {}\n",
    "                continue\n",
    "\n",
    "            # add passports' values\n",
    "            for d in line.strip(\"\\n\").split(\" \"):\n",
    "                k, v = d.split(\":\")\n",
    "                n[k] = v\n",
    "\n",
    "    return ctr\n",
    "\n",
    "\n",
    "pt1(\"input\")"
   ]
  },
  {
   "cell_type": "markdown",
   "id": "279393e5",
   "metadata": {},
   "source": [
    "## Part two"
   ]
  },
  {
   "cell_type": "code",
   "execution_count": 2,
   "id": "0e93676f",
   "metadata": {},
   "outputs": [],
   "source": [
    "def check_rules(k, v):\n",
    "    match(k):\n",
    "        case \"byr\":\n",
    "            if 1920 <= int(v) <= 2002: return 1\n",
    "        case \"iyr\":\n",
    "            if 2010 <= int(v) <= 2020: return 1\n",
    "        case \"eyr\":\n",
    "            if 2010 <= int(v) <= 2030: return 1\n",
    "        case \"hgt\":\n",
    "            if \"in\" in v:\n",
    "                if 59 <= int(v[:-2]) <= 76: return 1\n",
    "            if \"cm\" in v:\n",
    "                if 150 <= int(v[:-2]) <= 193: return 1\n",
    "        case \"hcl\":\n",
    "            # very ugly\n",
    "            if v[0] == \"#\" and len(v) == 7\\\n",
    "                and all([1 if x in [\"1\",\"2\",\"3\",\"4\",\"5\",\"6\",\"7\",\"8\",\"9\",\"0\",\"a\",\"b\",\"c\",\"d\",\"e\",\"f\"] else 0 for x in [*v[1:]]]):\n",
    "                return 1\n",
    "        case \"ecl\":\n",
    "            if v in [\"amb\",\"blu\",\"brn\",\"gry\",\"grn\",\"hzl\",\"oth\"]:\n",
    "                return 1\n",
    "        case \"pid\":\n",
    "            if len(v) == 9 and v.isnumeric():\n",
    "                return 1\n",
    "        case \"cid\":\n",
    "            return 1\n",
    "    return 0"
   ]
  },
  {
   "cell_type": "markdown",
   "id": "ed957a0a",
   "metadata": {},
   "source": [
    "### tests"
   ]
  },
  {
   "cell_type": "code",
   "execution_count": 3,
   "id": "d50ac441",
   "metadata": {},
   "outputs": [
    {
     "name": "stdout",
     "output_type": "stream",
     "text": [
      "True\n",
      "True\n",
      "True\n",
      "True\n",
      "True\n",
      "True\n",
      "True\n",
      "True\n",
      "True\n",
      "True\n",
      "True\n",
      "True\n",
      "True\n"
     ]
    }
   ],
   "source": [
    "print(check_rules(\"byr\", 2002) == 1)\n",
    "print(check_rules(\"byr\", 2003) == 0)\n",
    "\n",
    "print(check_rules(\"hgt\", \"60in\") == 1)\n",
    "print(check_rules(\"hgt\", \"190cm\") == 1)\n",
    "print(check_rules(\"hgt\", \"190in\") == 0)\n",
    "print(check_rules(\"hgt\", \"190\") == 0)\n",
    "\n",
    "print(check_rules(\"hcl\", \"#123abc\") == 1)\n",
    "print(check_rules(\"hcl\", \"#123abz\") == 0)\n",
    "print(check_rules(\"hcl\", \"123abc\") == 0)\n",
    "\n",
    "print(check_rules(\"ecl\", \"brn\") == 1)\n",
    "print(check_rules(\"ecl\", \"wat\") == 0)\n",
    "\n",
    "print(check_rules(\"pid\", \"000000001\") == 1)\n",
    "print(check_rules(\"pid\", \"0123456789\") == 0)"
   ]
  },
  {
   "cell_type": "code",
   "execution_count": 4,
   "id": "f917a8e2",
   "metadata": {},
   "outputs": [
    {
     "data": {
      "text/plain": [
       "114"
      ]
     },
     "execution_count": 4,
     "metadata": {},
     "output_type": "execute_result"
    }
   ],
   "source": [
    "def pt2(type=\"test\"):\n",
    "    ctr = 0\n",
    "    with open(type) as fp:\n",
    "        n = {}\n",
    "        for line in fp.readlines():\n",
    "            # when blank line check passport\n",
    "            if len(line) == 1:\n",
    "                if all([_ in n.keys() for _ in passport_fields]):\n",
    "                    ctr += 1\n",
    "                n = {}\n",
    "                continue\n",
    "\n",
    "            # add passports' values\n",
    "            for d in line.strip(\"\\n\").split(\" \"):\n",
    "                k, v = d.split(\":\")\n",
    "                if check_rules(k, v):\n",
    "                    n[k] = v\n",
    "\n",
    "    return ctr\n",
    "\n",
    "\n",
    "pt2(\"input\")"
   ]
  }
 ],
 "metadata": {
  "kernelspec": {
   "display_name": "Python 3.10.4 64-bit",
   "language": "python",
   "name": "python3"
  },
  "language_info": {
   "codemirror_mode": {
    "name": "ipython",
    "version": 3
   },
   "file_extension": ".py",
   "mimetype": "text/x-python",
   "name": "python",
   "nbconvert_exporter": "python",
   "pygments_lexer": "ipython3",
   "version": "3.10.4"
  },
  "vscode": {
   "interpreter": {
    "hash": "369f2c481f4da34e4445cda3fffd2e751bd1c4d706f27375911949ba6bb62e1c"
   }
  }
 },
 "nbformat": 4,
 "nbformat_minor": 5
}
