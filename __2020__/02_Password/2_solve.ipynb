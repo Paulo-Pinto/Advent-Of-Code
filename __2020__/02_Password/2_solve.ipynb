{
 "cells": [
  {
   "cell_type": "markdown",
   "metadata": {},
   "source": [
    "## Part one"
   ]
  },
  {
   "cell_type": "code",
   "execution_count": 1,
   "metadata": {},
   "outputs": [
    {
     "data": {
      "text/plain": [
       "546"
      ]
     },
     "execution_count": 1,
     "metadata": {},
     "output_type": "execute_result"
    }
   ],
   "source": [
    "def pt_1(type=\"test\"):\n",
    "    with open(type) as fp:\n",
    "        ctr = 0\n",
    "        for line in fp.readlines():\n",
    "\n",
    "            line = line.strip(\"\\n\").split(\" \")\n",
    "\n",
    "            _min, _max = line[0].split(\"-\")\n",
    "            char = line[1][:1]\n",
    "            pw = line[2]\n",
    "\n",
    "            if pw.count(char) in range(int(_min), int(_max) + 1):\n",
    "                ctr += 1\n",
    "        return ctr\n",
    "\n",
    "\n",
    "pt_1(\"input\")"
   ]
  },
  {
   "cell_type": "markdown",
   "metadata": {},
   "source": [
    "## Part Two"
   ]
  },
  {
   "cell_type": "code",
   "execution_count": 2,
   "metadata": {},
   "outputs": [
    {
     "data": {
      "text/plain": [
       "275"
      ]
     },
     "execution_count": 2,
     "metadata": {},
     "output_type": "execute_result"
    }
   ],
   "source": [
    "def pt_2(type=\"test\"):\n",
    "    with open(type) as fp:\n",
    "        ctr = 0\n",
    "        for line in fp.readlines():\n",
    "\n",
    "            line = line.strip(\"\\n\").split(\" \")\n",
    "\n",
    "            _min, _max = line[0].split(\"-\")\n",
    "            char = line[1][:1]\n",
    "            pw = line[2]\n",
    "\n",
    "            if (pw[int(_min) - 1] == char) != (pw[int(_max) - 1] == char):\n",
    "                ctr += 1\n",
    "        return ctr\n",
    "\n",
    "\n",
    "pt_2(\"input\")"
   ]
  }
 ],
 "metadata": {
  "kernelspec": {
   "display_name": "Python 3.10.4 64-bit",
   "language": "python",
   "name": "python3"
  },
  "language_info": {
   "codemirror_mode": {
    "name": "ipython",
    "version": 3
   },
   "file_extension": ".py",
   "mimetype": "text/x-python",
   "name": "python",
   "nbconvert_exporter": "python",
   "pygments_lexer": "ipython3",
   "version": "3.10.4"
  },
  "orig_nbformat": 4,
  "vscode": {
   "interpreter": {
    "hash": "369f2c481f4da34e4445cda3fffd2e751bd1c4d706f27375911949ba6bb62e1c"
   }
  }
 },
 "nbformat": 4,
 "nbformat_minor": 2
}
