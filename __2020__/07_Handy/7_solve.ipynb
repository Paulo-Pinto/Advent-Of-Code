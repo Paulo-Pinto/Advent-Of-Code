{
 "cells": [
  {
   "cell_type": "markdown",
   "id": "9a94d95b",
   "metadata": {},
   "source": [
    "## Part One"
   ]
  },
  {
   "cell_type": "code",
   "execution_count": 1,
   "id": "82a400ba",
   "metadata": {},
   "outputs": [
    {
     "name": "stdout",
     "output_type": "stream",
     "text": [
      "164\n"
     ]
    }
   ],
   "source": [
    "from collections import defaultdict\n",
    "\n",
    "\n",
    "def read_file(part, type=\"test\"):\n",
    "    \"\"\"Returns a dictionary of format\n",
    "\n",
    "    if part == 1 { bag B : list of bags that contain B }\n",
    "    if part == 2 { bag B : bags inside bag B}\n",
    "    \"\"\"\n",
    "    with open(type) as fp:\n",
    "        rules = defaultdict(list)\n",
    "        for line in fp.readlines():\n",
    "\n",
    "            outer_bag, inner_bags = line.strip().split(\" contain \")\n",
    "            outer_bag = \" \".join(outer_bag.split(\" \")[:-1])\n",
    "\n",
    "            for b in inner_bags.strip(\".\").split(\", \"):\n",
    "                value, *inner_bag, _ = b.split(\" \")\n",
    "                inner_bag = \" \".join(inner_bag)\n",
    "\n",
    "                if value == \"no\":  # no bags inside\n",
    "                    continue\n",
    "\n",
    "                if part == 1:\n",
    "                    rules[inner_bag].append(outer_bag)\n",
    "                else:\n",
    "                    rules[outer_bag].append((inner_bag, value))\n",
    "\n",
    "        return rules\n",
    "\n",
    "\n",
    "seen = []\n",
    "\n",
    "\n",
    "def get_bags_that_contain(outer_bag):\n",
    "    if outer_bag in seen:\n",
    "        return\n",
    "\n",
    "    seen.append(outer_bag)\n",
    "\n",
    "    for b in rules[outer_bag]:\n",
    "        if b not in seen:\n",
    "            get_bags_that_contain(b)\n",
    "\n",
    "\n",
    "rules = read_file(part=1, type=\"input\")\n",
    "get_bags_that_contain(\"shiny gold\")\n",
    "print(len(seen) - 1)"
   ]
  },
  {
   "cell_type": "markdown",
   "id": "1935db79",
   "metadata": {},
   "source": [
    "## Part Two"
   ]
  },
  {
   "cell_type": "code",
   "execution_count": 2,
   "id": "08cc7d49",
   "metadata": {},
   "outputs": [
    {
     "name": "stdout",
     "output_type": "stream",
     "text": [
      "7872\n"
     ]
    }
   ],
   "source": [
    "total = 0\n",
    "\n",
    "\n",
    "def calc_bags_inside(key_bag, quant=1):\n",
    "    global total\n",
    "\n",
    "    for b, v in rules[key_bag]:\n",
    "        total += int(v) * quant\n",
    "        # print(f\"+ {quant} * {v} {b}\")\n",
    "\n",
    "        if b not in seen:\n",
    "            calc_bags_inside(b, (quant * int(v)))\n",
    "\n",
    "\n",
    "rules = read_file(part=2, type=\"input\")\n",
    "\n",
    "calc_bags_inside(\"shiny gold\")\n",
    "print(total)"
   ]
  },
  {
   "cell_type": "markdown",
   "id": "416060d2",
   "metadata": {},
   "source": [
    "~20 minutes, couldn't really understand the logic at first"
   ]
  }
 ],
 "metadata": {
  "kernelspec": {
   "display_name": "Python 3.10.4 64-bit",
   "language": "python",
   "name": "python3"
  },
  "language_info": {
   "codemirror_mode": {
    "name": "ipython",
    "version": 3
   },
   "file_extension": ".py",
   "mimetype": "text/x-python",
   "name": "python",
   "nbconvert_exporter": "python",
   "pygments_lexer": "ipython3",
   "version": "3.10.4"
  },
  "vscode": {
   "interpreter": {
    "hash": "369f2c481f4da34e4445cda3fffd2e751bd1c4d706f27375911949ba6bb62e1c"
   }
  }
 },
 "nbformat": 4,
 "nbformat_minor": 5
}
