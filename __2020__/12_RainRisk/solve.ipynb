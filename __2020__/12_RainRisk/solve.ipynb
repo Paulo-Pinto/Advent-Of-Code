{
 "cells": [
  {
   "cell_type": "code",
   "execution_count": 1,
   "metadata": {},
   "outputs": [],
   "source": [
    "def read_file(type=\"simple\"):\n",
    "    with open(f\"input_{type}.txt\") as fp:\n",
    "        return [(x[0], int(x[1:].strip(\"\\n\"))) for x in fp.readlines()]\n",
    "\n",
    "\n",
    "# this is static\n",
    "facing_dict = {\n",
    "    \"east\": {\n",
    "        \"L\": \"north\",\n",
    "        \"R\": \"south\",\n",
    "    },\n",
    "    \"west\": {\n",
    "        \"L\": \"south\",\n",
    "        \"R\": \"north\",\n",
    "    },\n",
    "    \"north\": {\n",
    "        \"L\": \"west\",\n",
    "        \"R\": \"east\",\n",
    "    },\n",
    "    \"south\": {\n",
    "        \"L\": \"east\",\n",
    "        \"R\": \"west\",\n",
    "    },\n",
    "}"
   ]
  },
  {
   "cell_type": "markdown",
   "metadata": {},
   "source": [
    "## Part one"
   ]
  },
  {
   "cell_type": "code",
   "execution_count": 2,
   "metadata": {},
   "outputs": [
    {
     "name": "stdout",
     "output_type": "stream",
     "text": [
      "east 863 north 824 , mann dist 1687\n"
     ]
    }
   ],
   "source": [
    "instructions = read_file(\"normal\")\n",
    "\n",
    "facing = \"east\"\n",
    "east, north = 0, 0\n",
    "\n",
    "for direction, steps in instructions:\n",
    "    match(direction):\n",
    "        case \"N\": north += steps\n",
    "        case \"S\": north -= steps\n",
    "        case \"E\": east += steps\n",
    "        case \"W\": east -= steps\n",
    "        case \"L\" | \"R\":\n",
    "            n = steps // 90\n",
    "            # change facing direction\n",
    "            for _ in range(n):\n",
    "                facing = facing_dict[facing][direction]\n",
    "        case \"F\" :\n",
    "            match(facing):\n",
    "                case \"north\": north += steps\n",
    "                case \"south\": north -= steps\n",
    "                case \"east\": east += steps\n",
    "                case \"west\": east -= steps\n",
    "\n",
    "    # print(east, north)\n",
    "\n",
    "print(f\"east {abs(east)} north {abs(north)} , mann dist {abs(east) + abs(north)}\")"
   ]
  },
  {
   "cell_type": "markdown",
   "metadata": {},
   "source": [
    "## Part two"
   ]
  },
  {
   "cell_type": "code",
   "execution_count": 3,
   "metadata": {},
   "outputs": [
    {
     "name": "stdout",
     "output_type": "stream",
     "text": [
      "east 20658 north 215 , mann dist 20873\n"
     ]
    }
   ],
   "source": [
    "instructions = read_file(\"normal\")\n",
    "\n",
    "facing = \"east\"\n",
    "\n",
    "east, north = 0, 0\n",
    "\n",
    "waypoint = {\n",
    "    \"east\" : 10,\n",
    "    \"north\" : 1,\n",
    "}\n",
    "\n",
    "for direction, steps in instructions:\n",
    "    match(direction):\n",
    "        case \"N\": waypoint[\"north\"] += steps\n",
    "        case \"S\": waypoint[\"north\"] -= steps\n",
    "        case \"E\": waypoint[\"east\"] += steps\n",
    "        case \"W\": waypoint[\"east\"] -= steps\n",
    "        case \"L\" | \"R\":\n",
    "            n = steps // 90\n",
    "\n",
    "            # change direction of waypoint relative to ship\n",
    "            for _ in range(n):\n",
    "                if direction == \"L\":\n",
    "                    waypoint[\"east\"], waypoint[\"north\"] = -waypoint[\"north\"], waypoint[\"east\"]\n",
    "                if direction == \"R\":\n",
    "                    waypoint[\"east\"], waypoint[\"north\"] = waypoint[\"north\"], -waypoint[\"east\"]\n",
    "\n",
    "        case \"F\" :\n",
    "            east += waypoint[\"east\"] * steps\n",
    "            north += waypoint[\"north\"] * steps\n",
    "\n",
    "    # print(east, north, waypoint)\n",
    "\n",
    "print(f\"east {abs(east)} north {abs(north)} , mann dist {abs(east) + abs(north)}\")"
   ]
  },
  {
   "cell_type": "markdown",
   "metadata": {},
   "source": [
    "cool half hour solve, happy with this one"
   ]
  }
 ],
 "metadata": {
  "kernelspec": {
   "display_name": "Python 3.10.4 64-bit",
   "language": "python",
   "name": "python3"
  },
  "language_info": {
   "codemirror_mode": {
    "name": "ipython",
    "version": 3
   },
   "file_extension": ".py",
   "mimetype": "text/x-python",
   "name": "python",
   "nbconvert_exporter": "python",
   "pygments_lexer": "ipython3",
   "version": "3.10.4"
  },
  "orig_nbformat": 4,
  "vscode": {
   "interpreter": {
    "hash": "369f2c481f4da34e4445cda3fffd2e751bd1c4d706f27375911949ba6bb62e1c"
   }
  }
 },
 "nbformat": 4,
 "nbformat_minor": 2
}
