{
 "cells": [
  {
   "cell_type": "markdown",
   "id": "946590ba",
   "metadata": {},
   "source": [
    "## Part one"
   ]
  },
  {
   "cell_type": "code",
   "execution_count": 1,
   "id": "915b01a3",
   "metadata": {},
   "outputs": [],
   "source": [
    "def read_file(filename):\n",
    "    for line in open(filename).readlines():\n",
    "        # split input\n",
    "        cmd, score = line.strip().split(\" \")\n",
    "        yield (cmd, int(score))"
   ]
  },
  {
   "cell_type": "code",
   "execution_count": 2,
   "id": "3f56b9ee",
   "metadata": {},
   "outputs": [
    {
     "name": "stdout",
     "output_type": "stream",
     "text": [
      "1723\n"
     ]
    }
   ],
   "source": [
    "data = list(read_file(\"input\"))\n",
    "\n",
    "accu = 0\n",
    "pos = 0\n",
    "seen = []\n",
    "\n",
    "while 1:\n",
    "    # has this position been analysed?\n",
    "    if pos in seen:\n",
    "        print(accu)\n",
    "        break\n",
    "\n",
    "    seen.append(pos)\n",
    "\n",
    "    cmd, v = data[pos]\n",
    "    # print(cmd, v)\n",
    "\n",
    "    match (cmd):\n",
    "        case \"nop\":\n",
    "            pass\n",
    "        case \"acc\":\n",
    "            accu += v\n",
    "        case \"jmp\":\n",
    "            # print(pos, pos+v)\n",
    "            pos += v - 1\n",
    "\n",
    "    pos += 1"
   ]
  },
  {
   "cell_type": "markdown",
   "id": "b87b5b2b",
   "metadata": {},
   "source": [
    "8.22\n",
    "## Part two"
   ]
  },
  {
   "cell_type": "code",
   "execution_count": 3,
   "id": "c600dfa1",
   "metadata": {},
   "outputs": [
    {
     "name": "stdout",
     "output_type": "stream",
     "text": [
      "accu=846\n"
     ]
    }
   ],
   "source": [
    "data = list(read_file(\"input\"))\n",
    "nop_jmp_switch = {\"nop\": \"jmp\", \"jmp\": \"nop\"}\n",
    "\n",
    "\n",
    "def find(accu=0, pos=0, altered=0, new_cmd=()):\n",
    "    # try replacing new location\n",
    "    if altered:\n",
    "        data[pos] = new_cmd\n",
    "\n",
    "    ctr = 0\n",
    "    while 1:\n",
    "        ctr += 1\n",
    "\n",
    "        if ctr > 1000:  # safety check\n",
    "            break\n",
    "\n",
    "        if pos == len(data):\n",
    "            print(f\"{accu=}\")\n",
    "            return 1\n",
    "\n",
    "        cmd, v = data[pos]\n",
    "\n",
    "        if cmd == \"acc\":\n",
    "            accu += v\n",
    "\n",
    "        if cmd in [\"nop\", \"jmp\"]:\n",
    "            if not altered:  # try new combination\n",
    "                if find(accu, pos, altered=1, new_cmd=(nop_jmp_switch[cmd], v)):\n",
    "                    break\n",
    "\n",
    "            if cmd == \"jmp\":\n",
    "                pos += v - 1\n",
    "\n",
    "        pos += 1\n",
    "\n",
    "\n",
    "find()"
   ]
  },
  {
   "cell_type": "markdown",
   "id": "16a4e7c3",
   "metadata": {},
   "source": [
    "22:50 a bit ugly but it works"
   ]
  }
 ],
 "metadata": {
  "interpreter": {
   "hash": "8a94588eda9d64d9e9a351ab8144e55b1fabf5113b54e67dd26a8c27df0381b3"
  },
  "kernelspec": {
   "display_name": "Python 3.10.4 64-bit",
   "language": "python",
   "name": "python3"
  },
  "language_info": {
   "codemirror_mode": {
    "name": "ipython",
    "version": 3
   },
   "file_extension": ".py",
   "mimetype": "text/x-python",
   "name": "python",
   "nbconvert_exporter": "python",
   "pygments_lexer": "ipython3",
   "version": "3.10.7"
  },
  "vscode": {
   "interpreter": {
    "hash": "369f2c481f4da34e4445cda3fffd2e751bd1c4d706f27375911949ba6bb62e1c"
   }
  }
 },
 "nbformat": 4,
 "nbformat_minor": 5
}
