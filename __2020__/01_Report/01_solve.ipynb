{
 "cells": [
  {
   "cell_type": "code",
   "execution_count": 1,
   "metadata": {},
   "outputs": [],
   "source": [
    "def read_file(type=\"test\"):\n",
    "    with open(type) as fp:\n",
    "        return [int(x.strip(\"\\n\")) for x in fp.readlines()]"
   ]
  },
  {
   "cell_type": "markdown",
   "metadata": {},
   "source": [
    "## Part One"
   ]
  },
  {
   "cell_type": "code",
   "execution_count": 2,
   "metadata": {},
   "outputs": [
    {
     "name": "stdout",
     "output_type": "stream",
     "text": [
      "1224 796 974304\n"
     ]
    },
    {
     "data": {
      "text/plain": [
       "(1224, 796)"
      ]
     },
     "execution_count": 2,
     "metadata": {},
     "output_type": "execute_result"
    }
   ],
   "source": [
    "nums = read_file(\"input\")\n",
    "\n",
    "\n",
    "def part_one(goal=2020):\n",
    "    sums = [(goal - n) for n in nums]  # store checked numbers\n",
    "\n",
    "    for n in nums:\n",
    "        # check if number that adds up to 2020 is in list\n",
    "        if n in sums:\n",
    "            print(n, goal - n, n * (goal - n))\n",
    "            return n, goal - n\n",
    "\n",
    "\n",
    "part_one()"
   ]
  },
  {
   "cell_type": "code",
   "execution_count": 3,
   "metadata": {},
   "outputs": [
    {
     "name": "stdout",
     "output_type": "stream",
     "text": [
      "1224 796\n",
      "n1*n2 = 974304\n"
     ]
    }
   ],
   "source": [
    "from itertools import combinations\n",
    "\n",
    "for n1, n2 in combinations(nums, 2):\n",
    "    if n1 + n2 == 2020:\n",
    "        print(f\"{n1} {n2}\\n{n1*n2 = }\")"
   ]
  },
  {
   "cell_type": "markdown",
   "metadata": {},
   "source": [
    "## Part Two"
   ]
  },
  {
   "cell_type": "code",
   "execution_count": 4,
   "metadata": {},
   "outputs": [
    {
     "name": "stdout",
     "output_type": "stream",
     "text": [
      "332 858 830\n",
      "n1*n2*n3 = 236430480\n"
     ]
    }
   ],
   "source": [
    "from itertools import combinations\n",
    "\n",
    "for n1, n2, n3 in combinations(nums, 3):\n",
    "    if n1 + n2 + n3 == 2020:\n",
    "        print(f\"{n1} {n2} {n3}\\n{n1*n2*n3 = }\")"
   ]
  }
 ],
 "metadata": {
  "kernelspec": {
   "display_name": "Python 3.10.4 64-bit",
   "language": "python",
   "name": "python3"
  },
  "language_info": {
   "codemirror_mode": {
    "name": "ipython",
    "version": 3
   },
   "file_extension": ".py",
   "mimetype": "text/x-python",
   "name": "python",
   "nbconvert_exporter": "python",
   "pygments_lexer": "ipython3",
   "version": "3.10.4"
  },
  "orig_nbformat": 4,
  "vscode": {
   "interpreter": {
    "hash": "369f2c481f4da34e4445cda3fffd2e751bd1c4d706f27375911949ba6bb62e1c"
   }
  }
 },
 "nbformat": 4,
 "nbformat_minor": 2
}
