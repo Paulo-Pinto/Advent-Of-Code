{
 "cells": [
  {
   "cell_type": "code",
   "execution_count": 1,
   "id": "96ef1570",
   "metadata": {},
   "outputs": [],
   "source": [
    "import numpy as np\n",
    "\n",
    "def read_file(type=\"test\"):\n",
    "    with open(type) as fp:            \n",
    "        return [[*line.strip(\"\\n\")] for line in fp.readlines()]\n",
    "\n",
    "# np.matrix(read_file())"
   ]
  },
  {
   "cell_type": "markdown",
   "id": "a097e39c",
   "metadata": {},
   "source": [
    "## Part One"
   ]
  },
  {
   "cell_type": "code",
   "execution_count": 2,
   "id": "67483530",
   "metadata": {},
   "outputs": [
    {
     "data": {
      "text/plain": [
       "176"
      ]
     },
     "execution_count": 2,
     "metadata": {},
     "output_type": "execute_result"
    }
   ],
   "source": [
    "map = read_file(\"input\")\n",
    "\n",
    "def count_trees(slope_x, slope_y):\n",
    "    x, y = 0, 0\n",
    "    ctr = 0\n",
    "\n",
    "    while x < len(map):\n",
    "        ctr += map[x][y % len(map[0])] == \"#\"\n",
    "\n",
    "        x += slope_x\n",
    "        y += slope_y\n",
    "\n",
    "    return ctr\n",
    "\n",
    "count_trees(1, 3)"
   ]
  },
  {
   "cell_type": "markdown",
   "id": "828e52f3",
   "metadata": {},
   "source": [
    "## Part Two"
   ]
  },
  {
   "cell_type": "code",
   "execution_count": 3,
   "id": "995f9b5a",
   "metadata": {},
   "outputs": [
    {
     "name": "stdout",
     "output_type": "stream",
     "text": [
      "5872458240\n"
     ]
    }
   ],
   "source": [
    "total = 1\n",
    "\n",
    "for x, y in [(1, 1), (1, 3), (1, 5), (1, 7), (2, 1)]:\n",
    "    total *= count_trees(x, y)\n",
    "\n",
    "print(total)"
   ]
  }
 ],
 "metadata": {
  "kernelspec": {
   "display_name": "Python 3.10.4 64-bit",
   "language": "python",
   "name": "python3"
  },
  "language_info": {
   "codemirror_mode": {
    "name": "ipython",
    "version": 3
   },
   "file_extension": ".py",
   "mimetype": "text/x-python",
   "name": "python",
   "nbconvert_exporter": "python",
   "pygments_lexer": "ipython3",
   "version": "3.10.4"
  },
  "vscode": {
   "interpreter": {
    "hash": "369f2c481f4da34e4445cda3fffd2e751bd1c4d706f27375911949ba6bb62e1c"
   }
  }
 },
 "nbformat": 4,
 "nbformat_minor": 5
}
