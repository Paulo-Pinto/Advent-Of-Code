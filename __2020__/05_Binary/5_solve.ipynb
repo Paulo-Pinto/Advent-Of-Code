{
 "cells": [
  {
   "cell_type": "markdown",
   "id": "a90e8f3d",
   "metadata": {},
   "source": [
    "## Part One"
   ]
  },
  {
   "cell_type": "code",
   "execution_count": 41,
   "id": "2624587b",
   "metadata": {},
   "outputs": [],
   "source": [
    "def read_file(type=\"test\"):\n",
    "    with open(type) as fp:\n",
    "        for line in fp.readlines():\n",
    "            row_min, row_max = 0, 2**7 - 1\n",
    "            seat_min, seat_max = 0, 2**3 -1\n",
    "\n",
    "            x = line\\\n",
    "                .strip(\"\\n\")\\\n",
    "                .split(\" \")\n",
    "\n",
    "            for indication in list(*x):\n",
    "\n",
    "                match(indication):\n",
    "                    case \"F\":\n",
    "                        row_max  -= (( row_max - row_min ) // 2) + 1\n",
    "                    case \"B\":\n",
    "                        row_min  += (( row_max - row_min ) // 2) + 1\n",
    "                    case \"L\":\n",
    "                        seat_max -= (( seat_max - seat_min ) // 2) + 1\n",
    "                    case \"R\":\n",
    "                        seat_min += (( seat_max - seat_min ) // 2) + 1\n",
    "            \n",
    "                # print(row_min, row_max, seat_min, seat_max)\n",
    "            unique_id = (row_min * 8) + seat_min\n",
    "            yield unique_id\n"
   ]
  },
  {
   "cell_type": "markdown",
   "id": "1e045964",
   "metadata": {},
   "source": []
  },
  {
   "cell_type": "markdown",
   "id": "ec27ddd4",
   "metadata": {},
   "source": [
    "## Part Two"
   ]
  },
  {
   "cell_type": "code",
   "execution_count": 49,
   "id": "59e8e868",
   "metadata": {},
   "outputs": [
    {
     "name": "stdout",
     "output_type": "stream",
     "text": [
      "616 618\n"
     ]
    }
   ],
   "source": [
    "# len(seats)\n",
    "\n",
    "seats = list(read_file(\"input\"))\n",
    "seats.sort()\n",
    "\n",
    "for s1, s2 in zip(seats, seats[1:]):\n",
    "    if s1 - s2 != -1:\n",
    "        print(s1, s2)"
   ]
  },
  {
   "cell_type": "markdown",
   "id": "0bb2c526",
   "metadata": {},
   "source": [
    "14 minutes!! 2nd part took like 30 seconds"
   ]
  }
 ],
 "metadata": {
  "kernelspec": {
   "display_name": "Python 3.10.4 64-bit",
   "language": "python",
   "name": "python3"
  },
  "language_info": {
   "codemirror_mode": {
    "name": "ipython",
    "version": 3
   },
   "file_extension": ".py",
   "mimetype": "text/x-python",
   "name": "python",
   "nbconvert_exporter": "python",
   "pygments_lexer": "ipython3",
   "version": "3.10.4"
  },
  "vscode": {
   "interpreter": {
    "hash": "369f2c481f4da34e4445cda3fffd2e751bd1c4d706f27375911949ba6bb62e1c"
   }
  }
 },
 "nbformat": 4,
 "nbformat_minor": 5
}
