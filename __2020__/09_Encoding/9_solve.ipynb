{
 "cells": [
  {
   "cell_type": "markdown",
   "id": "687ce2e7",
   "metadata": {},
   "source": [
    "## Part One + Two"
   ]
  },
  {
   "cell_type": "code",
   "execution_count": 75,
   "id": "d5b59018",
   "metadata": {},
   "outputs": [
    {
     "name": "stdout",
     "output_type": "stream",
     "text": [
      "Part one : 88311122\n",
      "Part two : 13549369\n"
     ]
    }
   ],
   "source": [
    "from itertools import combinations\n",
    "\n",
    "filename = \"input\"\n",
    "preamble_len = 25 if filename == \"input\" else 5\n",
    "\n",
    "nums = [int(x) for x in open(filename).readlines()]  # read file\n",
    "\n",
    "for i in range(preamble_len, len(nums)):\n",
    "\n",
    "    _min = 0 if i - preamble_len < 0 else i - preamble_len\n",
    "    local_preamble = nums[_min : _min + preamble_len]  # previous numbers\n",
    "\n",
    "    combos = [x1 + x2 for x1, x2 in combinations(local_preamble, 2)]\n",
    "\n",
    "    if nums[i] not in combos:\n",
    "        key_number = (nums[i], i)\n",
    "        break\n",
    "\n",
    "print(f\"Part one : {key_number[0]}\")\n",
    "\n",
    "for init in range(0, key_number[1]):\n",
    "\n",
    "    # increment steps (how many numbers are being summed up)\n",
    "    for step in range(2, key_number[1] - init):\n",
    "        _sum = sum(nums[init : init + step])\n",
    "        if _sum > key_number[0]:  # sum is too big, move on\n",
    "            break\n",
    "\n",
    "        if _sum == key_number[0]:  # found the correct number\n",
    "            final_list = nums[init : init + step]\n",
    "            break\n",
    "\n",
    "# print(min(final_list), max(final_list), min(final_list) + max(final_list))\n",
    "\n",
    "print(f\"Part two : {min(final_list) + max(final_list)}\")"
   ]
  },
  {
   "cell_type": "markdown",
   "id": "d71d8694",
   "metadata": {},
   "source": [
    "13:37; 27"
   ]
  }
 ],
 "metadata": {
  "interpreter": {
   "hash": "8a94588eda9d64d9e9a351ab8144e55b1fabf5113b54e67dd26a8c27df0381b3"
  },
  "kernelspec": {
   "display_name": "Python 3.10.4 64-bit",
   "language": "python",
   "name": "python3"
  },
  "language_info": {
   "codemirror_mode": {
    "name": "ipython",
    "version": 3
   },
   "file_extension": ".py",
   "mimetype": "text/x-python",
   "name": "python",
   "nbconvert_exporter": "python",
   "pygments_lexer": "ipython3",
   "version": "3.10.7"
  }
 },
 "nbformat": 4,
 "nbformat_minor": 5
}
