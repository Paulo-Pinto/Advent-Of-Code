{
 "cells": [
  {
   "cell_type": "code",
   "execution_count": 1,
   "id": "5a1d5eb5",
   "metadata": {},
   "outputs": [
    {
     "name": "stdout",
     "output_type": "stream",
     "text": [
      "69626 206780\n"
     ]
    }
   ],
   "source": [
    "def read_file(filename=\"test\"):\n",
    "    with open(filename) as fp:\n",
    "        l = 0\n",
    "        for line in fp.readlines():\n",
    "            if line == \"\\n\":\n",
    "                yield l\n",
    "                l = 0\n",
    "                continue\n",
    "\n",
    "            l += int(line.strip())\n",
    "\n",
    "\n",
    "calories = list(read_file(\"input\"))\n",
    "pt1 = max(calories)\n",
    "pt2 = sum(sorted(calories)[-3:])\n",
    "print(pt1, pt2)"
   ]
  }
 ],
 "metadata": {
  "kernelspec": {
   "display_name": "Python 3.10.8 ('aocvenv': venv)",
   "language": "python",
   "name": "python3"
  },
  "language_info": {
   "codemirror_mode": {
    "name": "ipython",
    "version": 3
   },
   "file_extension": ".py",
   "mimetype": "text/x-python",
   "name": "python",
   "nbconvert_exporter": "python",
   "pygments_lexer": "ipython3",
   "version": "3.10.8"
  },
  "vscode": {
   "interpreter": {
    "hash": "17d45d902f223ac22e5baa2f455e7a39a0a6b596c8d9b9cbb1366779072fe04f"
   }
  }
 },
 "nbformat": 4,
 "nbformat_minor": 5
}
