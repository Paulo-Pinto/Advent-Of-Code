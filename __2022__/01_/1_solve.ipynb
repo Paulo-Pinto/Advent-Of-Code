{
 "cells": [
  {
   "cell_type": "code",
   "execution_count": 32,
   "id": "5a1d5eb5",
   "metadata": {},
   "outputs": [
    {
     "data": {
      "text/plain": [
       "206780"
      ]
     },
     "execution_count": 32,
     "metadata": {},
     "output_type": "execute_result"
    }
   ],
   "source": [
    "def read_file(filename=\"test\"):\n",
    "    ls = []\n",
    "    with open(filename) as fp:\n",
    "        l = 0\n",
    "        for line in fp.readlines():\n",
    "            if line == \"\\n\":\n",
    "                # print(\"break\")\n",
    "                ls.append(l)\n",
    "                l = 0\n",
    "                continue\n",
    "            \n",
    "            l += int(line.strip())\n",
    "                \n",
    "    return ls\n",
    "# max(read_file(\"input\"))\n",
    "sum(sorted(read_file(\"input\"))[-3:])"
   ]
  }
 ],
 "metadata": {
  "kernelspec": {
   "display_name": "Python 3.10.8 ('aocvenv': venv)",
   "language": "python",
   "name": "python3"
  },
  "language_info": {
   "codemirror_mode": {
    "name": "ipython",
    "version": 3
   },
   "file_extension": ".py",
   "mimetype": "text/x-python",
   "name": "python",
   "nbconvert_exporter": "python",
   "pygments_lexer": "ipython3",
   "version": "3.10.8"
  },
  "vscode": {
   "interpreter": {
    "hash": "17d45d902f223ac22e5baa2f455e7a39a0a6b596c8d9b9cbb1366779072fe04f"
   }
  }
 },
 "nbformat": 4,
 "nbformat_minor": 5
}
