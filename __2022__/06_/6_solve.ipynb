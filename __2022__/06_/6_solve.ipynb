{
 "cells": [
  {
   "cell_type": "code",
   "execution_count": 1,
   "id": "840cc29c",
   "metadata": {},
   "outputs": [
    {
     "data": {
      "text/plain": [
       "1766"
      ]
     },
     "execution_count": 1,
     "metadata": {},
     "output_type": "execute_result"
    }
   ],
   "source": [
    "def pt1(filename=\"test\"):\n",
    "    with open(filename) as fp:\n",
    "        last = []\n",
    "        for idx, c in enumerate(fp.read()):\n",
    "            last.append(c)\n",
    "\n",
    "            if len(last) == 4:\n",
    "                if len(set(last)) == len(last):\n",
    "                    return idx + 1\n",
    "\n",
    "                last.pop(0)\n",
    "\n",
    "\n",
    "pt1(\"input\")"
   ]
  },
  {
   "cell_type": "code",
   "execution_count": 2,
   "id": "f4c5ebaf",
   "metadata": {},
   "outputs": [
    {
     "data": {
      "text/plain": [
       "2383"
      ]
     },
     "execution_count": 2,
     "metadata": {},
     "output_type": "execute_result"
    }
   ],
   "source": [
    "def pt2(filename=\"test\"):\n",
    "    with open(filename) as fp:\n",
    "        last = []\n",
    "        for idx, c in enumerate(fp.read()):\n",
    "            last.append(c)\n",
    "\n",
    "            if len(last) == 14:\n",
    "                if len(set(last)) == len(last):\n",
    "                    return idx + 1\n",
    "\n",
    "                last.pop(0)\n",
    "\n",
    "\n",
    "pt2(\"input\")"
   ]
  },
  {
   "cell_type": "markdown",
   "id": "9cd7a078",
   "metadata": {},
   "source": [
    "better way"
   ]
  },
  {
   "cell_type": "code",
   "execution_count": 3,
   "id": "7accad54",
   "metadata": {},
   "outputs": [
    {
     "name": "stdout",
     "output_type": "stream",
     "text": [
      "1766\n",
      "2383\n"
     ]
    }
   ],
   "source": [
    "def solve(n):\n",
    "    text = open(\"input\").read()\n",
    "    i = 0\n",
    "\n",
    "    while len(text[i : i + n]) != len(set(text[i : i + n])):\n",
    "        i += 1\n",
    "    return i + n\n",
    "\n",
    "\n",
    "print(solve(4))\n",
    "print(solve(14))"
   ]
  },
  {
   "cell_type": "markdown",
   "id": "c543f75d",
   "metadata": {},
   "source": [
    "7 minutes"
   ]
  }
 ],
 "metadata": {
  "kernelspec": {
   "display_name": "Python 3.10.8 ('aocvenv': venv)",
   "language": "python",
   "name": "python3"
  },
  "language_info": {
   "codemirror_mode": {
    "name": "ipython",
    "version": 3
   },
   "file_extension": ".py",
   "mimetype": "text/x-python",
   "name": "python",
   "nbconvert_exporter": "python",
   "pygments_lexer": "ipython3",
   "version": "3.10.8"
  },
  "vscode": {
   "interpreter": {
    "hash": "17d45d902f223ac22e5baa2f455e7a39a0a6b596c8d9b9cbb1366779072fe04f"
   }
  }
 },
 "nbformat": 4,
 "nbformat_minor": 5
}
