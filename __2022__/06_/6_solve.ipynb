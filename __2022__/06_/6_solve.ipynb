{
 "cells": [
  {
   "cell_type": "code",
   "execution_count": 14,
   "id": "840cc29c",
   "metadata": {},
   "outputs": [
    {
     "name": "stdout",
     "output_type": "stream",
     "text": [
      "c='n' is beggining\n"
     ]
    },
    {
     "data": {
      "text/plain": [
       "1766"
      ]
     },
     "execution_count": 14,
     "metadata": {},
     "output_type": "execute_result"
    }
   ],
   "source": [
    "import re\n",
    "\n",
    "def read_file(filename=\"test\"):\n",
    "    \n",
    "    # lista, listb = open(filename).read().split(\"\\n\\n\") # split by new line\n",
    "    \n",
    "    with open(filename) as fp:\n",
    "        last = []\n",
    "        for idx, c in enumerate(fp.read()):\n",
    "            last.append(c)\n",
    "            # print(last)\n",
    "\n",
    "            if len(last) == 4:\n",
    "                # print(last)\n",
    "                if len(set(last)) == len(last):\n",
    "                    print(f\"{c=} is beggining\")\n",
    "                    return idx + 1\n",
    "                \n",
    "                last.pop(0)\n",
    "\n",
    "read_file(\"input\")"
   ]
  },
  {
   "cell_type": "code",
   "execution_count": 15,
   "id": "f4c5ebaf",
   "metadata": {},
   "outputs": [
    {
     "name": "stdout",
     "output_type": "stream",
     "text": [
      "c='z' is beggining\n"
     ]
    },
    {
     "data": {
      "text/plain": [
       "2383"
      ]
     },
     "execution_count": 15,
     "metadata": {},
     "output_type": "execute_result"
    }
   ],
   "source": [
    "import re\n",
    "\n",
    "def read_file(filename=\"test\"):\n",
    "    \n",
    "    # lista, listb = open(filename).read().split(\"\\n\\n\") # split by new line\n",
    "    \n",
    "    with open(filename) as fp:\n",
    "        last = []\n",
    "        for idx, c in enumerate(fp.read()):\n",
    "            last.append(c)\n",
    "            # print(last)\n",
    "\n",
    "            if len(last) == 14:\n",
    "                # print(last)\n",
    "                if len(set(last)) == len(last):\n",
    "                    print(f\"{c=} is beggining\")\n",
    "                    return idx + 1\n",
    "                \n",
    "                last.pop(0)\n",
    "\n",
    "read_file(\"input\")"
   ]
  }
 ],
 "metadata": {
  "kernelspec": {
   "display_name": "Python 3.10.8 ('aocvenv': venv)",
   "language": "python",
   "name": "python3"
  },
  "language_info": {
   "codemirror_mode": {
    "name": "ipython",
    "version": 3
   },
   "file_extension": ".py",
   "mimetype": "text/x-python",
   "name": "python",
   "nbconvert_exporter": "python",
   "pygments_lexer": "ipython3",
   "version": "3.10.8"
  },
  "vscode": {
   "interpreter": {
    "hash": "17d45d902f223ac22e5baa2f455e7a39a0a6b596c8d9b9cbb1366779072fe04f"
   }
  }
 },
 "nbformat": 4,
 "nbformat_minor": 5
}
