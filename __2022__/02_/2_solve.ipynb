{
 "cells": [
  {
   "cell_type": "code",
   "execution_count": 17,
   "id": "2ea27263",
   "metadata": {},
   "outputs": [],
   "source": [
    "rock = [\"A\", \"X\"]\n",
    "paper = [\"B\", \"Y\"]\n",
    "scissors = [\"C\", \"Z\"]\n",
    "\n",
    "def translate(x):\n",
    "    if x in rock:\n",
    "        return \"rock\"\n",
    "    if x in paper:\n",
    "        return \"paper\"\n",
    "    if x in scissors:\n",
    "        return \"scissors\"\n",
    "\n",
    "play_score = {\n",
    "    \"rock\" : 1,\n",
    "    \"paper\" : 2,\n",
    "    \"scissors\" : 3,\n",
    "}\n",
    "\n",
    "round_score = {\n",
    "    \"loss\" : 0,\n",
    "    \"draw\" : 3,\n",
    "    \"win\" : 6,\n",
    "}\n",
    "\n",
    "def resolve(you:str, me:str):\n",
    "    match(you):\n",
    "        case \"rock\":\n",
    "            match(me):\n",
    "                case \"rock\": return \"draw\"\n",
    "                case \"paper\": return \"win\"\n",
    "                case \"scissors\": return \"loss\"\n",
    "        case \"paper\":\n",
    "            match(me):\n",
    "                case \"rock\": return \"loss\"\n",
    "                case \"paper\": return \"draw\"\n",
    "                case \"scissors\": return \"win\"\n",
    "        case \"scissors\":\n",
    "            match(me):\n",
    "                case \"rock\": return \"win\"\n",
    "                case \"paper\": return \"loss\"\n",
    "                case \"scissors\": return \"draw\"\n",
    "        case \"\":\n",
    "            print(f\"{you=} {me=} invalid moves\")"
   ]
  },
  {
   "cell_type": "code",
   "execution_count": 21,
   "id": "333332e5",
   "metadata": {},
   "outputs": [
    {
     "data": {
      "text/plain": [
       "10624"
      ]
     },
     "execution_count": 21,
     "metadata": {},
     "output_type": "execute_result"
    }
   ],
   "source": [
    "choose = {}\n",
    "\n",
    "def read_file(filename=\"test\"):\n",
    "    global choose\n",
    "    score = 0\n",
    "    with open(filename) as fp:\n",
    "        for line in fp.readlines():\n",
    "            a, b = line.strip().split(\" \")\n",
    "            \n",
    "            move_a, move_b = translate(a), translate(b)\n",
    "            \n",
    "            score += play_score[move_b] + round_score[resolve(move_a,move_b)]\n",
    "            # print(move_a, move_b, play_score[move_b], resolve(move_a,move_b))\n",
    "            # print(score)\n",
    "    return score\n",
    "read_file(\"input\")"
   ]
  },
  {
   "cell_type": "code",
   "execution_count": 33,
   "id": "7dd23cf6",
   "metadata": {},
   "outputs": [
    {
     "data": {
      "text/plain": [
       "14060"
      ]
     },
     "execution_count": 33,
     "metadata": {},
     "output_type": "execute_result"
    }
   ],
   "source": [
    "choose = {}\n",
    "\n",
    "play_score = {\n",
    "    \"rock\" : 1,\n",
    "    \"paper\" : 2,\n",
    "    \"scissors\" : 3,\n",
    "}\n",
    "\n",
    "round_score2 = {\n",
    "    \"X\" : 0,\n",
    "    \"Y\" : 3,\n",
    "    \"Z\" : 6,\n",
    "}\n",
    "\n",
    "def read_file(filename=\"test\"):\n",
    "    global choose\n",
    "    score = 0\n",
    "    with open(filename) as fp:\n",
    "        for line in fp.readlines():\n",
    "            a, b = line.strip().split(\" \")\n",
    "            \n",
    "            move_a = translate(a)\n",
    "            \n",
    "            x = \"\"\n",
    "            \n",
    "            match(b):\n",
    "                case \"Z\": # win\n",
    "                    if move_a == \"rock\": x = \"paper\"\n",
    "                    if move_a == \"paper\": x = \"scissors\"\n",
    "                    if move_a == \"scissors\": x = \"rock\"\n",
    "                case \"Y\": # draw\n",
    "                    x = move_a\n",
    "                case \"X\": # lose\n",
    "                    if move_a == \"paper\": x = \"rock\"\n",
    "                    if move_a == \"scissors\": x = \"paper\"\n",
    "                    if move_a == \"rock\": x = \"scissors\"\n",
    "            # print(x)\n",
    "            score += play_score[x] + round_score2[b]\n",
    "            # print(move_a, play_score[move_a], round_score2[b])\n",
    "            # print(score)\n",
    "    return score\n",
    "read_file(\"input\")"
   ]
  }
 ],
 "metadata": {
  "kernelspec": {
   "display_name": "Python 3.8.10 ('aocvenv': venv)",
   "language": "python",
   "name": "python3"
  },
  "language_info": {
   "codemirror_mode": {
    "name": "ipython",
    "version": 3
   },
   "file_extension": ".py",
   "mimetype": "text/x-python",
   "name": "python",
   "nbconvert_exporter": "python",
   "pygments_lexer": "ipython3",
   "version": "3.10.8"
  },
  "vscode": {
   "interpreter": {
    "hash": "17d45d902f223ac22e5baa2f455e7a39a0a6b596c8d9b9cbb1366779072fe04f"
   }
  }
 },
 "nbformat": 4,
 "nbformat_minor": 5
}
