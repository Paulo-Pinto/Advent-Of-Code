{
 "cells": [
  {
   "cell_type": "code",
   "execution_count": 1,
   "id": "30c03151",
   "metadata": {},
   "outputs": [],
   "source": [
    "play_score = {\n",
    "    \"rock\": 1,\n",
    "    \"paper\": 2,\n",
    "    \"scissors\": 3,\n",
    "}\n",
    "\n",
    "round_score = {\n",
    "    \"loss\": 0,\n",
    "    \"draw\": 3,\n",
    "    \"win\": 6,\n",
    "}\n",
    "\n",
    "moves_map = {\n",
    "    \"rock\": [\"A\", \"X\"],\n",
    "    \"paper\": [\"B\", \"Y\"],\n",
    "    \"scissors\": [\"C\", \"Z\"],\n",
    "}"
   ]
  },
  {
   "cell_type": "code",
   "execution_count": 2,
   "id": "2ea27263",
   "metadata": {},
   "outputs": [],
   "source": [
    "def letter_to_move(c):\n",
    "    for move, letters in moves_map.items():\n",
    "        if c in letters:\n",
    "            return move\n",
    "\n",
    "\n",
    "def resolve(you: str, me: str):\n",
    "    # we play the same\n",
    "    if you == me:\n",
    "        return \"draw\"\n",
    "\n",
    "    if (\n",
    "        you == \"rock\"\n",
    "        and me == \"paper\"\n",
    "        or you == \"paper\"\n",
    "        and me == \"scissors\"\n",
    "        or you == \"scissors\"\n",
    "        and me == \"rock\"\n",
    "    ):\n",
    "        return \"win\"\n",
    "    else:\n",
    "        return \"loss\""
   ]
  },
  {
   "cell_type": "code",
   "execution_count": 3,
   "id": "333332e5",
   "metadata": {},
   "outputs": [
    {
     "data": {
      "text/plain": [
       "10624"
      ]
     },
     "execution_count": 3,
     "metadata": {},
     "output_type": "execute_result"
    }
   ],
   "source": [
    "choose = {}\n",
    "\n",
    "\n",
    "def pt1(filename=\"test\"):\n",
    "    global choose\n",
    "    score = 0\n",
    "    with open(filename) as fp:\n",
    "        for line in fp.readlines():\n",
    "            a, b = line.strip().split(\" \")\n",
    "            move_a, move_b = letter_to_move(a), letter_to_move(b)\n",
    "\n",
    "            score += play_score[move_b] + round_score[resolve(move_a, move_b)]\n",
    "            # print(move_a, move_b, play_score[move_b], round_score[resolve(move_a,move_b)])\n",
    "    return score\n",
    "\n",
    "\n",
    "pt1(\"input\")"
   ]
  },
  {
   "cell_type": "code",
   "execution_count": 4,
   "id": "7dd23cf6",
   "metadata": {},
   "outputs": [
    {
     "data": {
      "text/plain": [
       "12"
      ]
     },
     "execution_count": 4,
     "metadata": {},
     "output_type": "execute_result"
    }
   ],
   "source": [
    "choose = {}\n",
    "\n",
    "round_score_pt_2 = {\n",
    "    \"X\": 0,\n",
    "    \"Y\": 3,\n",
    "    \"Z\": 6,\n",
    "}\n",
    "\n",
    "\n",
    "def pt2(filename=\"test\"):\n",
    "    global choose\n",
    "    score = 0\n",
    "    with open(filename) as fp:\n",
    "        for line in fp.readlines():\n",
    "            a, b = line.strip().split(\" \")\n",
    "\n",
    "            move_a = letter_to_move(a)\n",
    "\n",
    "            x = \"\"\n",
    "\n",
    "            match (b):\n",
    "                case \"Z\":  # win\n",
    "                    if move_a == \"rock\":\n",
    "                        x = \"paper\"\n",
    "                    if move_a == \"paper\":\n",
    "                        x = \"scissors\"\n",
    "                    if move_a == \"scissors\":\n",
    "                        x = \"rock\"\n",
    "                case \"Y\":  # draw\n",
    "                    x = move_a\n",
    "                case \"X\":  # lose\n",
    "                    if move_a == \"paper\":\n",
    "                        x = \"rock\"\n",
    "                    if move_a == \"scissors\":\n",
    "                        x = \"paper\"\n",
    "                    if move_a == \"rock\":\n",
    "                        x = \"scissors\"\n",
    "\n",
    "            score += play_score[x] + round_score_pt_2[b]\n",
    "            # print(x, play_score[x], round_score_pt_2[b])\n",
    "    return score\n",
    "\n",
    "\n",
    "pt2(\"test\")"
   ]
  },
  {
   "cell_type": "markdown",
   "id": "19356867",
   "metadata": {},
   "source": [
    "overengineered way, custom circular linkedlist"
   ]
  },
  {
   "cell_type": "code",
   "execution_count": 5,
   "id": "6e4762f7",
   "metadata": {},
   "outputs": [
    {
     "name": "stdout",
     "output_type": "stream",
     "text": [
      "rock\n"
     ]
    }
   ],
   "source": [
    "class CircularLinkedList:\n",
    "    values = []\n",
    "    pos = 0\n",
    "\n",
    "    def __init__(self, initial_list: list):\n",
    "        self.values = initial_list\n",
    "        self.pos = 0\n",
    "\n",
    "    def __next__(self):\n",
    "        self.pos += 1\n",
    "\n",
    "        if self.pos >= len(self.values):\n",
    "            self.pos = 0\n",
    "\n",
    "        return self.values[self.pos]\n",
    "\n",
    "    def __prev__(self):\n",
    "        self.pos -= 1\n",
    "\n",
    "        if self.pos < 0:\n",
    "            self.pos = len(self.values) - 1\n",
    "\n",
    "        return self.values[self.pos]\n",
    "\n",
    "    def __curr__(self):\n",
    "        return self.values[self.pos]\n",
    "\n",
    "    def __str__(self):\n",
    "        return str([*self.values])\n",
    "\n",
    "    def __set__(self, target):\n",
    "\n",
    "        for i, ele in enumerate(self.values):\n",
    "            if ele == target:\n",
    "                self.pos = i\n",
    "                return ele\n",
    "\n",
    "        return -1  # no results\n",
    "\n",
    "    def __reset__(self):\n",
    "        self.pos = 0\n",
    "\n",
    "    set = __set__\n",
    "    next = __next__\n",
    "    prev = __prev__\n",
    "    curr = __curr__\n",
    "    reset = __reset__\n",
    "\n",
    "\n",
    "circular_moves = CircularLinkedList([\"rock\", \"scissors\", \"paper\"])\n",
    "\n",
    "print(circular_moves.curr())\n",
    "# print(circular_moves.next())\n",
    "# circular_moves.reset()\n",
    "# print(circular_moves.curr())\n",
    "# print(circular_moves.set(\"paper\"))\n",
    "# print(circular_moves.prev())\n",
    "# circular_moves.reset()"
   ]
  },
  {
   "cell_type": "code",
   "execution_count": 6,
   "id": "b159ac99",
   "metadata": {},
   "outputs": [
    {
     "data": {
      "text/plain": [
       "14060"
      ]
     },
     "execution_count": 6,
     "metadata": {},
     "output_type": "execute_result"
    }
   ],
   "source": [
    "choose = {}\n",
    "\n",
    "round_score_pt_2 = {\n",
    "    \"X\": 0,\n",
    "    \"Y\": 3,\n",
    "    \"Z\": 6,\n",
    "}\n",
    "\n",
    "\n",
    "def read_file(filename=\"test\"):\n",
    "    global choose\n",
    "    score = 0\n",
    "    with open(filename) as fp:\n",
    "        for line in fp.readlines():\n",
    "            a, b = line.strip().split(\" \")\n",
    "\n",
    "            move_a = letter_to_move(a)\n",
    "\n",
    "            x = circular_moves.set(move_a)\n",
    "\n",
    "            match (b):\n",
    "                case \"Z\":  # win\n",
    "                    x = circular_moves.prev()\n",
    "                case \"X\":  # lose\n",
    "                    x = circular_moves.next()\n",
    "\n",
    "            score += play_score[x] + round_score_pt_2[b]\n",
    "            # print(x, play_score[x], round_score_pt_2[b])\n",
    "    return score\n",
    "\n",
    "\n",
    "read_file(\"input\")"
   ]
  }
 ],
 "metadata": {
  "kernelspec": {
   "display_name": "Python 3.8.10 ('aocvenv': venv)",
   "language": "python",
   "name": "python3"
  },
  "language_info": {
   "codemirror_mode": {
    "name": "ipython",
    "version": 3
   },
   "file_extension": ".py",
   "mimetype": "text/x-python",
   "name": "python",
   "nbconvert_exporter": "python",
   "pygments_lexer": "ipython3",
   "version": "3.10.8"
  },
  "vscode": {
   "interpreter": {
    "hash": "17d45d902f223ac22e5baa2f455e7a39a0a6b596c8d9b9cbb1366779072fe04f"
   }
  }
 },
 "nbformat": 4,
 "nbformat_minor": 5
}
