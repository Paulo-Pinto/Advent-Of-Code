{
 "cells": [
  {
   "cell_type": "code",
   "execution_count": 63,
   "id": "baf1dd26",
   "metadata": {},
   "outputs": [],
   "source": [
    "def read_file(filename=\"test\"):\n",
    "    with open(filename) as fp:\n",
    "        new = 0\n",
    "        n_stacks = 3 if filename == \"test\" else 9\n",
    "        stacks = []\n",
    "        instructions = []\n",
    "        \n",
    "        for i in range(n_stacks):\n",
    "            stacks.append([])\n",
    "        \n",
    "        for line in fp.readlines():\n",
    "            if line == \"\\n\":\n",
    "                # print(\"new read\")\n",
    "                new = 1\n",
    "                continue\n",
    "            \n",
    "            if new:\n",
    "                line = line.strip().replace(\"from\", \",\")\n",
    "                line = line.strip().replace(\"to\", \",\")\n",
    "                line = line.strip().replace(\"move \", \"\")\n",
    "                a, b, c = line.split(\" , \")\n",
    "                instructions.append((a,b,c))\n",
    "                # print(a, b, c)\n",
    "            \n",
    "            ctr = 0\n",
    "            \n",
    "            if not new:  # 1 5 9 13\n",
    "                # print(ctr * 4 + 1)\n",
    "                y = \" \"\n",
    "                while (ctr * 4 + 1) < len(line):\n",
    "                    # print(\"find\")\n",
    "                    y = line[ctr * 4 + 1]\n",
    "                    ctr += 1\n",
    "                    \n",
    "                    if y.isnumeric():\n",
    "                        break\n",
    "                    \n",
    "                    if y != \" \":\n",
    "                        # print(len(stacks), ctr-1, y)\n",
    "                        stacks[ctr-1].append(y)\n",
    "                    # print(f\"{ctr=} {y=}\")\n",
    "                # print(stacks)\n",
    "            \n",
    "            # a.append(line)\n",
    "        return stacks, instructions\n",
    "stacks, instructions = read_file(\"input\")"
   ]
  },
  {
   "cell_type": "code",
   "execution_count": 65,
   "id": "4035fc40",
   "metadata": {},
   "outputs": [
    {
     "name": "stdout",
     "output_type": "stream",
     "text": [
      "JRVNHHCSJ\n"
     ]
    }
   ],
   "source": [
    "stacks, instructions = read_file(\"input\")\n",
    "# print(stacks)\n",
    "\n",
    "for crates, _from, to in instructions:\n",
    "    # print(\"abou\")\n",
    "    for n in range(int(crates)):\n",
    "        stacks[int(to)-1].insert(0,stacks[int(_from)-1].pop(0))\n",
    "        # print(stacks)\n",
    "text = \"\"\n",
    "for n in range(len(stacks)):\n",
    "    text += (stacks[n].pop(0))\n",
    "print(text)\n",
    "        "
   ]
  },
  {
   "cell_type": "code",
   "execution_count": null,
   "id": "bc1a3c63",
   "metadata": {},
   "outputs": [],
   "source": []
  },
  {
   "cell_type": "code",
   "execution_count": 87,
   "id": "5ed82d24",
   "metadata": {},
   "outputs": [
    {
     "name": "stdout",
     "output_type": "stream",
     "text": [
      "GNFBSBJLH\n"
     ]
    }
   ],
   "source": [
    "stacks, instructions = read_file(\"input\")\n",
    "# print(stacks)\n",
    "\n",
    "for crates, _from, to in instructions:\n",
    "    # print(stacks)\n",
    "    move = stacks[int(_from)-1][0:int(crates)]\n",
    "    for x in move[::-1]:\n",
    "        stacks[int(to)-1].insert(0,x)\n",
    "    del stacks[int(_from)-1][0:int(crates)]\n",
    "        # stacks[int(to)-1].insert(0,stacks[int(_from)-1].pop(0))\n",
    "# print(stacks)\n",
    "text = \"\"\n",
    "for n in range(len(stacks)):\n",
    "    if len(stacks[n]):\n",
    "        text += (stacks[n].pop(0))\n",
    "print(text)"
   ]
  }
 ],
 "metadata": {
  "kernelspec": {
   "display_name": "Python 3.10.8 ('aocvenv': venv)",
   "language": "python",
   "name": "python3"
  },
  "language_info": {
   "codemirror_mode": {
    "name": "ipython",
    "version": 3
   },
   "file_extension": ".py",
   "mimetype": "text/x-python",
   "name": "python",
   "nbconvert_exporter": "python",
   "pygments_lexer": "ipython3",
   "version": "3.10.8"
  },
  "vscode": {
   "interpreter": {
    "hash": "17d45d902f223ac22e5baa2f455e7a39a0a6b596c8d9b9cbb1366779072fe04f"
   }
  }
 },
 "nbformat": 4,
 "nbformat_minor": 5
}
