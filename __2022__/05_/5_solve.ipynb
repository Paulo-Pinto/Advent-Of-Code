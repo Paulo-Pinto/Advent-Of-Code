{
 "cells": [
  {
   "cell_type": "code",
   "execution_count": 44,
   "id": "b0f05573",
   "metadata": {},
   "outputs": [
    {
     "name": "stdout",
     "output_type": "stream",
     "text": [
      "JRVNHHCSJ\n"
     ]
    }
   ],
   "source": [
    "import re\n",
    "\n",
    "\n",
    "def pt1(filename=\"test\"):\n",
    "    n_stacks = 3 if filename == \"test\" else 9\n",
    "    stacks = [[] for _ in range(n_stacks)]\n",
    "\n",
    "    crates, instructions = open(filename).read().split(\"\\n\\n\")\n",
    "\n",
    "    for level in crates.splitlines()[:-1]:\n",
    "        ctr = 0\n",
    "        while (ctr * 4 + 1) < len(level):\n",
    "            crate = level[ctr * 4 + 1]\n",
    "\n",
    "            if crate != \" \":\n",
    "                stacks[ctr].append(crate)\n",
    "\n",
    "            ctr += 1\n",
    "\n",
    "    for inst in instructions.splitlines():\n",
    "        quant, _from, to = map(int, re.findall(r\"\\d+\", inst))\n",
    "\n",
    "        for _ in range(int(quant)):\n",
    "            stacks[int(to) - 1].insert(0, stacks[int(_from) - 1].pop(0))\n",
    "\n",
    "    return \"\".join([stacks[n].pop(0) for n in range(len(stacks))])\n",
    "\n",
    "\n",
    "print(pt1(\"input\"))"
   ]
  },
  {
   "cell_type": "code",
   "execution_count": 45,
   "id": "832c21db",
   "metadata": {},
   "outputs": [
    {
     "name": "stdout",
     "output_type": "stream",
     "text": [
      "GNFBSBJLH\n"
     ]
    }
   ],
   "source": [
    "def pt2(filename=\"test\"):\n",
    "    n_stacks = 3 if filename == \"test\" else 9\n",
    "    stacks = [[] for _ in range(n_stacks)]\n",
    "\n",
    "    crates, instructions = open(filename).read().split(\"\\n\\n\")\n",
    "\n",
    "    for level in crates.splitlines()[:-1]:\n",
    "        ctr = 0\n",
    "        while (ctr * 4 + 1) < len(level):\n",
    "            crate = level[ctr * 4 + 1]\n",
    "\n",
    "            if crate != \" \":\n",
    "                stacks[ctr].append(crate)\n",
    "\n",
    "            ctr += 1\n",
    "\n",
    "    for inst in instructions.splitlines():\n",
    "        quant, _from, to = map(int, re.findall(r\"\\d+\", inst))\n",
    "\n",
    "        move = stacks[int(_from) - 1][0 : int(quant)]\n",
    "        for x in move[::-1]:\n",
    "            stacks[int(to) - 1].insert(0, x)\n",
    "\n",
    "        del stacks[int(_from) - 1][0 : int(quant)]\n",
    "\n",
    "    return \"\".join([stacks[n].pop(0) for n in range(len(stacks))])\n",
    "\n",
    "\n",
    "print(pt2(\"input\"))"
   ]
  }
 ],
 "metadata": {
  "kernelspec": {
   "display_name": "Python 3.10.8 ('aocvenv': venv)",
   "language": "python",
   "name": "python3"
  },
  "language_info": {
   "codemirror_mode": {
    "name": "ipython",
    "version": 3
   },
   "file_extension": ".py",
   "mimetype": "text/x-python",
   "name": "python",
   "nbconvert_exporter": "python",
   "pygments_lexer": "ipython3",
   "version": "3.10.8"
  },
  "vscode": {
   "interpreter": {
    "hash": "17d45d902f223ac22e5baa2f455e7a39a0a6b596c8d9b9cbb1366779072fe04f"
   }
  }
 },
 "nbformat": 4,
 "nbformat_minor": 5
}
