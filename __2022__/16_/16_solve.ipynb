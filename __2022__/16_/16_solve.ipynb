{
 "cells": [
  {
   "cell_type": "code",
   "execution_count": 17,
   "id": "d152836a",
   "metadata": {},
   "outputs": [
    {
     "name": "stdout",
     "output_type": "stream",
     "text": [
      "AA 0   -> ['DD', 'II', 'BB']\n",
      "BB 13  -> ['CC', 'AA']\n",
      "CC 2   -> ['DD', 'BB']\n",
      "DD 20  -> ['CC', 'AA', 'EE']\n",
      "EE 3   -> ['FF', 'DD']\n",
      "FF 0   -> ['EE', 'GG']\n",
      "GG 0   -> ['FF', 'HH']\n",
      "HH 22  -> ['GG']\n",
      "II 0   -> ['AA', 'JJ']\n",
      "JJ 21  -> ['II']\n"
     ]
    }
   ],
   "source": [
    "import re\n",
    "\n",
    "class Valve:\n",
    "    def __init__(self, id:str, rate:int, child_valves:list):\n",
    "        self.id = id\n",
    "        self.rate = rate\n",
    "        self.child_valves = child_valves\n",
    "\n",
    "    def __str__(self):\n",
    "        return f\"{self.id} {self.rate:<3} -> {self.child_valves}\"\n",
    "\n",
    "    def __repr__(self):\n",
    "       return self.id\n",
    "\n",
    "valves = {}\n",
    "\n",
    "def read_file(filename=\"test\"):\n",
    "    with open(filename) as fp:\n",
    "        for line in fp.read().splitlines():\n",
    "            # print(line)\n",
    "            valve, *child_valves = re.findall(\"[A-Z]{2}\", line)\n",
    "            rate = int(re.findall(\"\\d+\", line)[0])\n",
    "            valves[valve] = Valve(valve, rate, child_valves)\n",
    "            # valves.append()\n",
    "read_file()\n",
    "\n",
    "for k,v in valves.items():\n",
    "    print(f\"{v}\")"
   ]
  },
  {
   "cell_type": "code",
   "execution_count": 2,
   "id": "779d14d8",
   "metadata": {},
   "outputs": [
    {
     "name": "stdout",
     "output_type": "stream",
     "text": [
      "True\n"
     ]
    }
   ],
   "source": [
    "print(valves[\"DD\"].id in valves[\"AA\"].child_valves)"
   ]
  },
  {
   "cell_type": "code",
   "execution_count": 12,
   "id": "db8c7dd2",
   "metadata": {},
   "outputs": [],
   "source": [
    "a=[1,2]\n"
   ]
  },
  {
   "cell_type": "code",
   "execution_count": 13,
   "id": "009e6f51",
   "metadata": {},
   "outputs": [
    {
     "name": "stdout",
     "output_type": "stream",
     "text": [
      "None\n"
     ]
    }
   ],
   "source": [
    "print(a.append(3))"
   ]
  },
  {
   "cell_type": "code",
   "execution_count": 18,
   "id": "f7d9dd9d",
   "metadata": {},
   "outputs": [
    {
     "name": "stdout",
     "output_type": "stream",
     "text": [
      "AA 0   -> ['DD', 'II', 'BB'] ['AA'] [AA]\n",
      "DD 20  -> ['CC', 'AA', 'EE'] ['AA', 'DD'] [AA, DD]\n",
      "CC 2   -> ['DD', 'BB'] ['AA', 'DD', 'CC'] [AA, DD, CC]\n",
      "BB 13  -> ['CC', 'AA'] ['AA', 'DD', 'CC', 'BB'] [AA, DD, CC, BB]\n",
      "EE 3   -> ['FF', 'DD'] ['AA', 'DD', 'CC', 'BB', 'EE'] [AA, DD, CC, BB, EE]\n",
      "FF 0   -> ['EE', 'GG'] ['AA', 'DD', 'CC', 'BB', 'EE', 'FF'] [AA, DD, CC, BB, EE, FF]\n",
      "GG 0   -> ['FF', 'HH'] ['AA', 'DD', 'CC', 'BB', 'EE', 'FF', 'GG'] [AA, DD, CC, BB, EE, FF, GG]\n",
      "v2 in v1\n",
      "[AA, DD, CC, BB, EE, FF, GG, HH]\n"
     ]
    }
   ],
   "source": [
    "visited = []\n",
    "queue = []\n",
    "\n",
    "def calc_dist(v1:Valve, v2:Valve, path=[]):\n",
    "    visited.append(v1.id)\n",
    "    path.append(v1)\n",
    "    print(v1, visited, str(path))\n",
    "    if v2.id == v1.id: \n",
    "        print(\"v2 == v1\")\n",
    "        path.append(v2)\n",
    "        return path\n",
    "\n",
    "    if v2.id in v1.child_valves:\n",
    "        print(\"v2 in v1\")\n",
    "        path.append(v2)\n",
    "        return path\n",
    "\n",
    "    for c in v1.child_valves:\n",
    "        if c in visited: continue\n",
    "        \n",
    "        if (x := calc_dist(valves[c], v2, path)) != None: return x\n",
    "            \n",
    "            # queue.append(c)\n",
    "            # visited.append(c)\n",
    "\n",
    "    # for q in queue:\n",
    "    #     if calc_dist(valves[c], v2, ctr + 1) != None: return ctr\n",
    "        \n",
    "\n",
    "    # return \"aa\"\n",
    "    # ctr = 0\n",
    "\n",
    "    # while queue:\n",
    "    #     v = queue.pop(0)\n",
    "    #     print(v)\n",
    "    #     ctr += 1\n",
    "        \n",
    "    #     if v.id == v2.id:\n",
    "    #         print(len(visited), len(queue), ctr)\n",
    "    #         return ctr // 2\n",
    "\n",
    "    #     for c in v.child_valves:\n",
    "    #         if c not in visited:\n",
    "    #             visited.append(c)\n",
    "    #             queue.append(valves[c])\n",
    "    \n",
    "    # print(v1)\n",
    "print(calc_dist(valves[\"AA\"], valves[\"HH\"]))"
   ]
  }
 ],
 "metadata": {
  "kernelspec": {
   "display_name": "Python 3.10.8 ('aocvenv': venv)",
   "language": "python",
   "name": "python3"
  },
  "language_info": {
   "codemirror_mode": {
    "name": "ipython",
    "version": 3
   },
   "file_extension": ".py",
   "mimetype": "text/x-python",
   "name": "python",
   "nbconvert_exporter": "python",
   "pygments_lexer": "ipython3",
   "version": "3.10.8"
  },
  "vscode": {
   "interpreter": {
    "hash": "17d45d902f223ac22e5baa2f455e7a39a0a6b596c8d9b9cbb1366779072fe04f"
   }
  }
 },
 "nbformat": 4,
 "nbformat_minor": 5
}
