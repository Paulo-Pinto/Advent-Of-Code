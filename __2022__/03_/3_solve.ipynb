{
 "cells": [
  {
   "cell_type": "code",
   "execution_count": 1,
   "id": "7d9bbbba",
   "metadata": {},
   "outputs": [
    {
     "data": {
      "text/plain": [
       "7980"
      ]
     },
     "execution_count": 1,
     "metadata": {},
     "output_type": "execute_result"
    }
   ],
   "source": [
    "def pt1(filename=\"test\"):\n",
    "    with open(filename) as fp:\n",
    "        prios = 0\n",
    "\n",
    "        for line in fp.readlines():\n",
    "            line = line.strip()\n",
    "\n",
    "            mid_point = len(line) // 2\n",
    "            half1, half2 = line[:mid_point], line[mid_point:]\n",
    "            common = [i for i in half1 if i in half2]\n",
    "\n",
    "            for n in set(common):\n",
    "                # mapped priorities to ASCII values\n",
    "                if n == n.lower():\n",
    "                    prios += ord(n) - 96\n",
    "                else:\n",
    "                    prios += ord(n) - 38\n",
    "\n",
    "        return prios\n",
    "\n",
    "\n",
    "pt1(\"input\")"
   ]
  },
  {
   "cell_type": "code",
   "execution_count": 2,
   "id": "49320037",
   "metadata": {},
   "outputs": [
    {
     "data": {
      "text/plain": [
       "2881"
      ]
     },
     "execution_count": 2,
     "metadata": {},
     "output_type": "execute_result"
    }
   ],
   "source": [
    "def pt2(filename=\"test\"):\n",
    "    with open(filename) as fp:\n",
    "        prios = 0\n",
    "        group = []  # store every 3 lines, add prios and reset\n",
    "        for line in fp.readlines():\n",
    "\n",
    "            group.append(line.strip())\n",
    "\n",
    "            if len(group) == 3:\n",
    "                common = [i for i in group[0] if i in group[1] and i in group[2]]\n",
    "\n",
    "                for n in set(common):\n",
    "                    # mapped priorities to ASCII values\n",
    "                    if n == n.lower():\n",
    "                        prios += ord(n) - 96\n",
    "                    else:\n",
    "                        prios += ord(n) - 38\n",
    "\n",
    "                group = []\n",
    "\n",
    "        return prios\n",
    "\n",
    "\n",
    "pt2(\"input\")"
   ]
  }
 ],
 "metadata": {
  "kernelspec": {
   "display_name": "Python 3.10.8 ('aocvenv': venv)",
   "language": "python",
   "name": "python3"
  },
  "language_info": {
   "codemirror_mode": {
    "name": "ipython",
    "version": 3
   },
   "file_extension": ".py",
   "mimetype": "text/x-python",
   "name": "python",
   "nbconvert_exporter": "python",
   "pygments_lexer": "ipython3",
   "version": "3.10.8"
  },
  "vscode": {
   "interpreter": {
    "hash": "17d45d902f223ac22e5baa2f455e7a39a0a6b596c8d9b9cbb1366779072fe04f"
   }
  }
 },
 "nbformat": 4,
 "nbformat_minor": 5
}
