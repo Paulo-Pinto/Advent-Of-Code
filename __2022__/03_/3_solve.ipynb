{
 "cells": [
  {
   "cell_type": "code",
   "execution_count": 30,
   "id": "7d9bbbba",
   "metadata": {},
   "outputs": [
    {
     "data": {
      "text/plain": [
       "7980"
      ]
     },
     "execution_count": 30,
     "metadata": {},
     "output_type": "execute_result"
    }
   ],
   "source": [
    "def read_file(filename=\"test\"):\n",
    "    with open(filename) as fp:\n",
    "        prios = 0\n",
    "        \n",
    "        for line in fp.readlines():\n",
    "            x = line.strip()\n",
    "\n",
    "            l = len(x)//2\n",
    "            first, second = x[:l], x[l:]\n",
    "            common = [i for i in first if i in second]\n",
    "            for n in set(common):\n",
    "                prio = 0\n",
    "                if n == n.lower():\n",
    "                    prio = ord(n) - 96\n",
    "                    # print(n, ord(n), prio)\n",
    "                else:\n",
    "                    prio = ord(n) - 96 + 58\n",
    "                    # print(n, ord(n), prio)\n",
    "                \n",
    "                prios += prio\n",
    "            # print(prios)\n",
    "             \n",
    "\n",
    "        return prios\n",
    "read_file(\"input\")"
   ]
  },
  {
   "cell_type": "code",
   "execution_count": 33,
   "id": "49320037",
   "metadata": {},
   "outputs": [
    {
     "name": "stdout",
     "output_type": "stream",
     "text": [
      "Q 81 43\n",
      "L 76 38\n",
      "B 66 28\n",
      "z 122 26\n",
      "j 106 10\n",
      "R 82 44\n",
      "N 78 40\n",
      "j 106 10\n",
      "P 80 42\n",
      "S 83 45\n",
      "s 115 19\n",
      "L 76 38\n",
      "M 77 39\n",
      "t 116 20\n",
      "z 122 26\n",
      "D 68 30\n",
      "N 78 40\n",
      "C 67 29\n",
      "B 66 28\n",
      "l 108 12\n",
      "J 74 36\n",
      "N 78 40\n",
      "h 104 8\n",
      "P 80 42\n",
      "B 66 28\n",
      "T 84 46\n",
      "F 70 32\n",
      "d 100 4\n",
      "D 68 30\n",
      "N 78 40\n",
      "W 87 49\n",
      "Z 90 52\n",
      "W 87 49\n",
      "N 78 40\n",
      "v 118 22\n",
      "l 108 12\n",
      "B 66 28\n",
      "G 71 33\n",
      "C 67 29\n",
      "S 83 45\n",
      "W 87 49\n",
      "F 70 32\n",
      "c 99 3\n",
      "L 76 38\n",
      "M 77 39\n",
      "L 76 38\n",
      "q 113 17\n",
      "b 98 2\n",
      "s 115 19\n",
      "M 77 39\n",
      "M 77 39\n",
      "c 99 3\n",
      "m 109 13\n",
      "s 115 19\n",
      "n 110 14\n",
      "H 72 34\n",
      "g 103 7\n",
      "P 80 42\n",
      "C 67 29\n",
      "z 122 26\n",
      "z 122 26\n",
      "b 98 2\n",
      "P 80 42\n",
      "t 116 20\n",
      "q 113 17\n",
      "L 76 38\n",
      "J 74 36\n",
      "w 119 23\n",
      "M 77 39\n",
      "D 68 30\n",
      "W 87 49\n",
      "t 116 20\n",
      "g 103 7\n",
      "V 86 48\n",
      "T 84 46\n",
      "Q 81 43\n",
      "W 87 49\n",
      "Q 81 43\n",
      "p 112 16\n",
      "Z 90 52\n",
      "h 104 8\n",
      "r 114 18\n",
      "q 113 17\n",
      "H 72 34\n",
      "q 113 17\n",
      "F 70 32\n",
      "S 83 45\n",
      "s 115 19\n",
      "M 77 39\n",
      "g 103 7\n",
      "C 67 29\n",
      "m 109 13\n",
      "Z 90 52\n",
      "G 71 33\n",
      "r 114 18\n",
      "N 78 40\n",
      "j 106 10\n",
      "q 113 17\n",
      "c 99 3\n",
      "j 106 10\n"
     ]
    },
    {
     "data": {
      "text/plain": [
       "2881"
      ]
     },
     "execution_count": 33,
     "metadata": {},
     "output_type": "execute_result"
    }
   ],
   "source": [
    "def read_file(filename=\"test\"):\n",
    "    with open(filename) as fp:\n",
    "        prios = 0\n",
    "        group = []\n",
    "        for line in fp.readlines():\n",
    "            \n",
    "            x = line.strip()\n",
    "            group.append(x)\n",
    "            \n",
    "            if len(group) == 3:\n",
    "                common = [i for i in group[0] if i in group[1] and i in group[2]]\n",
    "                for n in set(common):\n",
    "                    prio = 0\n",
    "                    if n == n.lower():\n",
    "                        prio = ord(n) - 96\n",
    "                        # print(n, ord(n), prio)\n",
    "                    else:\n",
    "                        prio = ord(n) - 96 + 58\n",
    "                        # print(n, ord(n), prio)\n",
    "                    \n",
    "                    prios += prio\n",
    "                # print(prios)\n",
    "                group = []\n",
    "             \n",
    "\n",
    "        return prios\n",
    "read_file(\"input\")"
   ]
  }
 ],
 "metadata": {
  "kernelspec": {
   "display_name": "Python 3.10.8 ('aocvenv': venv)",
   "language": "python",
   "name": "python3"
  },
  "language_info": {
   "codemirror_mode": {
    "name": "ipython",
    "version": 3
   },
   "file_extension": ".py",
   "mimetype": "text/x-python",
   "name": "python",
   "nbconvert_exporter": "python",
   "pygments_lexer": "ipython3",
   "version": "3.10.8"
  },
  "vscode": {
   "interpreter": {
    "hash": "17d45d902f223ac22e5baa2f455e7a39a0a6b596c8d9b9cbb1366779072fe04f"
   }
  }
 },
 "nbformat": 4,
 "nbformat_minor": 5
}
