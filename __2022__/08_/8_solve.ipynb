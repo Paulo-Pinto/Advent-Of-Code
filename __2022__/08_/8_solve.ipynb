{
 "cells": [
  {
   "cell_type": "code",
   "execution_count": 1,
   "id": "fbd12df3",
   "metadata": {},
   "outputs": [
    {
     "data": {
      "text/plain": [
       "1779"
      ]
     },
     "execution_count": 1,
     "metadata": {},
     "output_type": "execute_result"
    }
   ],
   "source": [
    "import numpy as np\n",
    "\n",
    "\n",
    "def pt1(filename=\"test\"):\n",
    "    line_len = 5 if filename == \"test\" else 99\n",
    "    grid = []\n",
    "    visible = [[0 for _ in range(line_len)] for _ in range(line_len)]\n",
    "\n",
    "    with open(filename) as fp:\n",
    "        for line in fp.read().splitlines():\n",
    "            grid.append([int(x) for x in [*line]])\n",
    "\n",
    "    # horizontal\n",
    "    for r in range(line_len):\n",
    "        # left to right\n",
    "        prev = 0\n",
    "        for c in range(line_len):\n",
    "            if grid[r][c] > prev or c == 0:\n",
    "                prev = grid[r][c]\n",
    "                visible[r][c] = 1\n",
    "\n",
    "        # right to left\n",
    "        prev = 0\n",
    "        for c in range(line_len)[::-1]:\n",
    "            if grid[r][c] > prev or c == (line_len - 1):\n",
    "                prev = grid[r][c]\n",
    "                visible[r][c] = 1\n",
    "\n",
    "    # vertical\n",
    "    for c in range(line_len):\n",
    "        # top down\n",
    "        prev = 0\n",
    "        for r in range(line_len):\n",
    "            if grid[r][c] > prev or r == 0:\n",
    "                prev = grid[r][c]\n",
    "                visible[r][c] = 1\n",
    "\n",
    "        # down to top\n",
    "        prev = 0\n",
    "        for r in range(line_len)[::-1]:\n",
    "            if grid[r][c] > prev or r == (line_len - 1):\n",
    "                prev = grid[r][c]\n",
    "                visible[r][c] = 1\n",
    "\n",
    "    t = 0\n",
    "    for r in range(line_len):\n",
    "        for c in range(line_len):\n",
    "            if visible[r][c]:\n",
    "                t += 1\n",
    "\n",
    "    # print(np.matrix(grid))\n",
    "    # print(np.matrix(visible))\n",
    "    return grid, t\n",
    "\n",
    "\n",
    "pt1(\"input\")[1]"
   ]
  },
  {
   "cell_type": "code",
   "execution_count": 2,
   "id": "7ff4abe8",
   "metadata": {},
   "outputs": [
    {
     "name": "stdout",
     "output_type": "stream",
     "text": [
      "172224\n"
     ]
    }
   ],
   "source": [
    "def scenic_score(grid, row, col):\n",
    "    og = grid[row][col]\n",
    "\n",
    "    up, left, down, right = 0, 0, 0, 0\n",
    "\n",
    "    for r in range(row, len(grid) - 1):\n",
    "        down += 1\n",
    "        if grid[r + 1][col] >= og:\n",
    "            break\n",
    "\n",
    "    for r in range(row, 0, -1):\n",
    "        up += 1\n",
    "        if grid[r - 1][col] >= og:\n",
    "            break\n",
    "\n",
    "    for c in range(col, len(grid) - 1):\n",
    "        right += 1\n",
    "        if grid[row][c + 1] >= og:\n",
    "            break\n",
    "\n",
    "    for c in range(col, 0, -1):\n",
    "        left += 1\n",
    "        if grid[row][c - 1] >= og:\n",
    "            break\n",
    "\n",
    "    return up * left * down * right\n",
    "\n",
    "\n",
    "def pt2(filename=\"test\"):\n",
    "    grid = pt1(filename)[0]\n",
    "\n",
    "    max = 0\n",
    "    for _r in range(0, len(grid)):\n",
    "        for _c in range(0, len(grid)):\n",
    "            new = scenic_score(grid, _r, _c)\n",
    "            if new > max:\n",
    "                max = new\n",
    "    return max\n",
    "                                            \n",
    "\n",
    "print(pt2(\"input\"))"
   ]
  },
  {
   "cell_type": "code",
   "execution_count": 3,
   "id": "26704991",
   "metadata": {},
   "outputs": [
    {
     "data": {
      "text/plain": [
       "99"
      ]
     },
     "execution_count": 3,
     "metadata": {},
     "output_type": "execute_result"
    }
   ],
   "source": [
    "len(\n",
    "    \"013443533555256553426677376778475746848576769888786588999657647784787744733675443533555552342334414\"\n",
    ")"
   ]
  }
 ],
 "metadata": {
  "kernelspec": {
   "display_name": "Python 3.10.8 ('aocvenv': venv)",
   "language": "python",
   "name": "python3"
  },
  "language_info": {
   "codemirror_mode": {
    "name": "ipython",
    "version": 3
   },
   "file_extension": ".py",
   "mimetype": "text/x-python",
   "name": "python",
   "nbconvert_exporter": "python",
   "pygments_lexer": "ipython3",
   "version": "3.10.8"
  },
  "vscode": {
   "interpreter": {
    "hash": "17d45d902f223ac22e5baa2f455e7a39a0a6b596c8d9b9cbb1366779072fe04f"
   }
  }
 },
 "nbformat": 4,
 "nbformat_minor": 5
}
