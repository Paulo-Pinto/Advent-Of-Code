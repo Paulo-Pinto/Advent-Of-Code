{
 "cells": [
  {
   "cell_type": "code",
   "execution_count": 97,
   "id": "fbd12df3",
   "metadata": {},
   "outputs": [
    {
     "data": {
      "text/plain": [
       "1779"
      ]
     },
     "execution_count": 97,
     "metadata": {},
     "output_type": "execute_result"
    }
   ],
   "source": [
    "import re\n",
    "import numpy as np\n",
    "\n",
    "def read_file(filename=\"test\"):\n",
    "    line_len = 5 if filename == \"test\" else 99\n",
    "    map = [[0 for _ in range(line_len)] for _ in range(line_len)]\n",
    "    visible = [[0 for _ in range(line_len)] for _ in range(line_len)]\n",
    "\n",
    "    with open(filename) as fp:\n",
    "        for idx,line in enumerate(fp.read().splitlines()):\n",
    "            map[idx] = [int(x) for x in [*line]]\n",
    "        # print(f\"{map=}\")\n",
    "\n",
    "    # vertical\n",
    "    for r in range(line_len):\n",
    "        prev = 0\n",
    "        for c in range(line_len):\n",
    "            if map[r][c] > prev or c == 0:\n",
    "                # print(map[r], prev, map[r][c])\n",
    "                prev = map[r][c]\n",
    "                visible[r][c] = 1\n",
    "        \n",
    "        prev = 0\n",
    "        for c in range(line_len)[::-1]:\n",
    "            if map[r][c] > prev or c == (line_len - 1):\n",
    "                # print(map[r], prev, map[r][c])                \n",
    "                prev = map[r][c]\n",
    "                visible[r][c] = 1\n",
    "\n",
    "    # horizontal\n",
    "    for c in range(line_len):\n",
    "        prev = 0\n",
    "        for r in range(line_len):\n",
    "            if map[r][c] > prev or r == 0:\n",
    "                # print(map[r], prev, map[r][c])\n",
    "                prev = map[r][c]\n",
    "                visible[r][c] = 1\n",
    "        \n",
    "        prev = 0\n",
    "        for r in range(line_len)[::-1]:\n",
    "            if map[r][c] > prev or r == (line_len - 1):\n",
    "                # print(map[r], prev, map[r][c])                \n",
    "                prev = map[r][c]\n",
    "                visible[r][c] = 1\n",
    "\n",
    "    t = 0\n",
    "    for r in range(line_len):\n",
    "        for c in range(line_len):\n",
    "            if visible[r][c]:\n",
    "                t += 1\n",
    "\n",
    "    # print(np.matrix(map))\n",
    "    # print(np.matrix(visible))\n",
    "    return map, t\n",
    "read_file(\"input\")[1]"
   ]
  },
  {
   "cell_type": "code",
   "execution_count": 192,
   "id": "7ff4abe8",
   "metadata": {},
   "outputs": [
    {
     "name": "stdout",
     "output_type": "stream",
     "text": [
      "172224\n"
     ]
    }
   ],
   "source": [
    "def scenic_score(row, col):\n",
    "    og = map[row][col]\n",
    "    \n",
    "    counts = {\n",
    "        \"up\":0,\n",
    "        \"left\":0,\n",
    "        \"down\":0,\n",
    "        \"right\":0,\n",
    "    }\n",
    "\n",
    "    prev = map[row][col]\n",
    "    for r in range(row+1, len(map)):\n",
    "        # print(f\"{prev}, next={map[r][col]} {r=}\")\n",
    "        counts[\"down\"] += 1\n",
    "\n",
    "        if map[r][col] >= og or map[r][col] >= og:\n",
    "            # print(\"exiting\")\n",
    "            break\n",
    "        prev = map[r][col]\n",
    "\n",
    "    prev = map[row][col]\n",
    "    for r in range(row-1, -1, -1):\n",
    "        # print(f\"{prev}, next={map[r][col]} {r=}\")\n",
    "        counts[\"up\"] += 1\n",
    "\n",
    "        if map[r][col] >= og or map[r][col] >= og:\n",
    "            # print(\"exiting\")\n",
    "            break\n",
    "        prev = map[r][col]\n",
    "    \n",
    "    for c in range(col+1, len(map)):\n",
    "        counts[\"right\"] += 1\n",
    "        if map[row][c] >= og: break\n",
    "\n",
    "    for c in range(col-1, -1, -1):\n",
    "        counts[\"left\"] += 1\n",
    "        if map[row][c] >= og: break\n",
    "\n",
    "    t = 1\n",
    "    for v in counts.values():\n",
    "        t *= v\n",
    "    return t\n",
    "\n",
    "map = read_file(\"input\")[0]\n",
    "\n",
    "max = 0\n",
    "for _r in range(0, len(map)):\n",
    "    for _c in range(0, len(map)):\n",
    "        # print(_r)\n",
    "        new = scenic_score(_r, _c)\n",
    "        if new > max: max = new\n",
    "print(max)"
   ]
  },
  {
   "cell_type": "code",
   "execution_count": 92,
   "id": "26704991",
   "metadata": {},
   "outputs": [
    {
     "data": {
      "text/plain": [
       "99"
      ]
     },
     "execution_count": 92,
     "metadata": {},
     "output_type": "execute_result"
    }
   ],
   "source": [
    "len(\"013443533555256553426677376778475746848576769888786588999657647784787744733675443533555552342334414\")"
   ]
  }
 ],
 "metadata": {
  "kernelspec": {
   "display_name": "Python 3.10.8 ('aocvenv': venv)",
   "language": "python",
   "name": "python3"
  },
  "language_info": {
   "codemirror_mode": {
    "name": "ipython",
    "version": 3
   },
   "file_extension": ".py",
   "mimetype": "text/x-python",
   "name": "python",
   "nbconvert_exporter": "python",
   "pygments_lexer": "ipython3",
   "version": "3.10.8"
  },
  "vscode": {
   "interpreter": {
    "hash": "17d45d902f223ac22e5baa2f455e7a39a0a6b596c8d9b9cbb1366779072fe04f"
   }
  }
 },
 "nbformat": 4,
 "nbformat_minor": 5
}
