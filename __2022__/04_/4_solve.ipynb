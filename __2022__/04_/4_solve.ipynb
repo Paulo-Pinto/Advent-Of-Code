{
 "cells": [
  {
   "cell_type": "code",
   "execution_count": 4,
   "id": "8a685aa9",
   "metadata": {},
   "outputs": [
    {
     "data": {
      "text/plain": [
       "528"
      ]
     },
     "execution_count": 4,
     "metadata": {},
     "output_type": "execute_result"
    }
   ],
   "source": [
    "def read_file(filename=\"test\"):\n",
    "    ctr = 0\n",
    "    with open(filename) as fp:\n",
    "        for line in fp.readlines():\n",
    "            \n",
    "            a, b = line.strip().split(\",\")\n",
    "            min_a, max_a = a.split(\"-\")\n",
    "            min_b, max_b = b.split(\"-\")\n",
    "            # print(a,b)\n",
    "            min_a, max_a, min_b, max_b = int(min_a), int(max_a), int(min_b), int(max_b) \n",
    "            \n",
    "            if min_a <= min_b and max_a >= max_b \\\n",
    "            or min_b <= min_a and max_b >= max_a:\n",
    "                # print(\"Fully encapsulated\")\n",
    "                # print(type(max_a))\n",
    "                # print(a,b)\n",
    "                ctr +=1\n",
    "            \n",
    "        return ctr\n",
    "read_file(\"input\")"
   ]
  },
  {
   "cell_type": "code",
   "execution_count": 5,
   "id": "a614fcd2",
   "metadata": {},
   "outputs": [
    {
     "data": {
      "text/plain": [
       "881"
      ]
     },
     "execution_count": 5,
     "metadata": {},
     "output_type": "execute_result"
    }
   ],
   "source": [
    "def read_file(filename=\"test\"):\n",
    "    ctr = 0\n",
    "    with open(filename) as fp:\n",
    "        for line in fp.readlines():\n",
    "            \n",
    "            a, b = line.strip().split(\",\")\n",
    "            min_a, max_a = a.split(\"-\")\n",
    "            min_b, max_b = b.split(\"-\")\n",
    "            # print(a,b)\n",
    "            min_a, max_a, min_b, max_b = int(min_a), int(max_a), int(min_b), int(max_b) \n",
    "            \n",
    "            if min_b <= min_a <= max_b \\\n",
    "            or min_b <= max_a <= max_b \\\n",
    "            or min_a <= min_b <= max_a \\\n",
    "            or min_a <= max_b <= max_a \\\n",
    "                : # print(\"Fully encapsulated\")\n",
    "                # print(type(max_a))\n",
    "                # print(a,b)\n",
    "                ctr +=1\n",
    "            \n",
    "        return ctr\n",
    "read_file(\"input\")"
   ]
  }
 ],
 "metadata": {
  "kernelspec": {
   "display_name": "Python 3.10.8 ('aocvenv': venv)",
   "language": "python",
   "name": "python3"
  },
  "language_info": {
   "codemirror_mode": {
    "name": "ipython",
    "version": 3
   },
   "file_extension": ".py",
   "mimetype": "text/x-python",
   "name": "python",
   "nbconvert_exporter": "python",
   "pygments_lexer": "ipython3",
   "version": "3.10.8"
  },
  "vscode": {
   "interpreter": {
    "hash": "17d45d902f223ac22e5baa2f455e7a39a0a6b596c8d9b9cbb1366779072fe04f"
   }
  }
 },
 "nbformat": 4,
 "nbformat_minor": 5
}
