{
 "cells": [
  {
   "cell_type": "code",
   "execution_count": 1,
   "id": "8a685aa9",
   "metadata": {},
   "outputs": [
    {
     "data": {
      "text/plain": [
       "528"
      ]
     },
     "execution_count": 1,
     "metadata": {},
     "output_type": "execute_result"
    }
   ],
   "source": [
    "import re\n",
    "\n",
    "\n",
    "def pt1(filename=\"test\"):\n",
    "    ctr = 0\n",
    "    with open(filename) as fp:\n",
    "        for line in fp.read().splitlines():\n",
    "            min_a, max_a, min_b, max_b = map(int, re.split(\"[, -]\", line))\n",
    "\n",
    "            if min_a <= min_b and max_a >= max_b or min_b <= min_a and max_b >= max_a:\n",
    "                ctr += 1  # fully encapsulated\n",
    "\n",
    "        return ctr\n",
    "\n",
    "\n",
    "pt1(\"input\")"
   ]
  },
  {
   "cell_type": "code",
   "execution_count": 2,
   "id": "a614fcd2",
   "metadata": {},
   "outputs": [
    {
     "data": {
      "text/plain": [
       "881"
      ]
     },
     "execution_count": 2,
     "metadata": {},
     "output_type": "execute_result"
    }
   ],
   "source": [
    "def pt2(filename=\"test\"):\n",
    "    ctr = 0\n",
    "    with open(filename) as fp:\n",
    "        for line in fp.read().splitlines():\n",
    "            min_a, max_a, min_b, max_b = map(int, re.split(\"[, -]\", line))\n",
    "\n",
    "            if (\n",
    "                min_b <= min_a <= max_b\n",
    "                or min_b <= max_a <= max_b\n",
    "                or min_a <= min_b <= max_a\n",
    "                or min_a <= max_b <= max_a\n",
    "            ):\n",
    "                ctr += 1  # overlapping\n",
    "\n",
    "        return ctr\n",
    "\n",
    "\n",
    "pt2(\"input\")"
   ]
  }
 ],
 "metadata": {
  "kernelspec": {
   "display_name": "Python 3.10.8 ('aocvenv': venv)",
   "language": "python",
   "name": "python3"
  },
  "language_info": {
   "codemirror_mode": {
    "name": "ipython",
    "version": 3
   },
   "file_extension": ".py",
   "mimetype": "text/x-python",
   "name": "python",
   "nbconvert_exporter": "python",
   "pygments_lexer": "ipython3",
   "version": "3.10.8"
  },
  "vscode": {
   "interpreter": {
    "hash": "17d45d902f223ac22e5baa2f455e7a39a0a6b596c8d9b9cbb1366779072fe04f"
   }
  }
 },
 "nbformat": 4,
 "nbformat_minor": 5
}
