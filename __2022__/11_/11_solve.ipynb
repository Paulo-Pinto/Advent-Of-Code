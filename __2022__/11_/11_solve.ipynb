{
 "cells": [
  {
   "cell_type": "code",
   "execution_count": 39,
   "id": "6e3888bb",
   "metadata": {},
   "outputs": [
    {
     "name": "stdout",
     "output_type": "stream",
     "text": [
      "0 {'items': [79, 98], 'symbol': '*', 'quant': 19, 'test': 23, 'true': '2', 'false': '3', 'ctr': 0, 'curr_ctr': 0}\n",
      "1 {'items': [54, 65, 75, 74], 'symbol': '+', 'quant': 6, 'test': 19, 'true': '2', 'false': '0', 'ctr': 0, 'curr_ctr': 0}\n",
      "2 {'items': [79, 60, 97], 'symbol': '*', 'quant': '-9', 'test': 13, 'true': '1', 'false': '3', 'ctr': 0, 'curr_ctr': 0}\n",
      "3 {'items': [74], 'symbol': '+', 'quant': 3, 'test': 17, 'true': '0', 'false': '1', 'ctr': 0, 'curr_ctr': 0}\n"
     ]
    }
   ],
   "source": [
    "import re\n",
    "\n",
    "\n",
    "def read_file(filename=\"test\"):\n",
    "    monkeys = {}\n",
    "    id = 0\n",
    "    with open(filename) as fp:\n",
    "        for line in fp.read().splitlines():\n",
    "            if line == \"\":\n",
    "                id = 99\n",
    "                continue\n",
    "            \n",
    "            if \"Monkey\" in line:\n",
    "                line = line.replace(\"Monkey \", \"\")\n",
    "                id = line[:1]\n",
    "                monkeys[id] = {\n",
    "                    \"items\" : [],\n",
    "                    \"symbol\" : \"\",\n",
    "                    \"quant\" : 1,\n",
    "                    \"test\" : 1,\n",
    "                    \"true\" : 0,\n",
    "                    \"false\" : 0,\n",
    "                    \"ctr\" : 0,\n",
    "                    \"curr_ctr\" : 0,\n",
    "                }\n",
    "                continue\n",
    "\n",
    "            if \"Starting items\" in line:\n",
    "                line = line.replace(\"Starting items: \", \"\")\n",
    "                for x in re.split(\"[, ]\", line):\n",
    "                    if x != \"\": monkeys[id][\"items\"].append(int(x))\n",
    "                continue\n",
    "            \n",
    "            if \"Operation\" in line:\n",
    "                line = re.split(\"new = old \", line)[1]\n",
    "                symbol, qt = re.split(\" \", line)\n",
    "                monkeys[id][\"symbol\"] = symbol\n",
    "                monkeys[id][\"quant\"] = \"-9\" if qt==\"old\" else int(qt)\n",
    "                continue\n",
    "            \n",
    "            if \"Test\" in line:\n",
    "                line = line.replace(\"Test: divisible by \", \"\")\n",
    "                monkeys[id][\"test\"] = int(line)\n",
    "                # print(monkeys)\n",
    "                continue\n",
    "            \n",
    "            if \"If true\" in line:\n",
    "                line = line.replace(\"If true: throw to monkey \", \"\")\n",
    "                monkeys[id][\"true\"] = (line.strip())\n",
    "                continue\n",
    "            \n",
    "            if \"If false\" in line:\n",
    "                line = line.replace(\"If false: throw to monkey \", \"\")\n",
    "                monkeys[id][\"false\"] = (line.strip())\n",
    "                continue\n",
    "        \n",
    "        return monkeys\n",
    "\n",
    "monkeys = read_file()\n",
    "for k,v in monkeys.items():\n",
    "    print(k,v)"
   ]
  },
  {
   "cell_type": "code",
   "execution_count": 10,
   "id": "ebc64605",
   "metadata": {},
   "outputs": [
    {
     "name": "stdout",
     "output_type": "stream",
     "text": [
      "0\n",
      "[('0', 168), ('1', 65), ('2', 181), ('3', 189), ('4', 59), ('5', 228), ('6', 83), ('7', 237)]\n",
      "[('7', 237), ('5', 228)]\n",
      "237 228 54036\n"
     ]
    }
   ],
   "source": [
    "\n",
    "monkeys = read_file(\"input\")\n",
    "\n",
    "rounds = 20\n",
    "\n",
    "for r in range(rounds):\n",
    "    if r % 100 == 0: print(r)\n",
    "    for k,v in monkeys.items():\n",
    "        # print(v[\"items\"])\n",
    "        for _ in range(len(v[\"items\"])):\n",
    "            worry = v[\"items\"].pop(0)\n",
    "            v[\"ctr\"] += 1\n",
    "            qt = v[\"quant\"] if v[\"quant\"] != \"-99999\" else worry\n",
    "            \n",
    "            # print(worry.values(), type(worry))\n",
    "            # print(qt, type(qt))\n",
    "            match(v[\"symbol\"]):\n",
    "                case \"*\": worry *= qt\n",
    "                case \"+\": worry += qt\n",
    "                case \"-\": worry -= qt\n",
    "                case _:\n",
    "                    print(\"Afinal havia outra\")\n",
    "                    print(v[\"symbol\"])\n",
    "            \n",
    "            worry //= 3\n",
    "            \n",
    "            if worry % v[\"test\"] == 0:\n",
    "                monkeys[v[\"true\"]][\"items\"].append(worry)\n",
    "            else:\n",
    "                monkeys[v[\"false\"]][\"items\"].append(worry)\n",
    "\n",
    "\n",
    "lens = [(k, monkeys[k][\"ctr\"]) for k,v in monkeys.items()]\n",
    "print(lens)\n",
    "lens.sort(key=lambda x:x[1], reverse=True)\n",
    "print(lens[:2])\n",
    "\n",
    "print(monkeys[lens[0][0]][\"ctr\"] ,monkeys[lens[1][0]][\"ctr\"], monkeys[lens[0][0]][\"ctr\"] * monkeys[lens[1][0]][\"ctr\"])\n",
    "\n",
    "# for k,v in monkeys.items():\n",
    "#     print(f\"{k} {v['items']}\")"
   ]
  },
  {
   "cell_type": "code",
   "execution_count": 52,
   "id": "3e074ecd",
   "metadata": {},
   "outputs": [
    {
     "name": "stdout",
     "output_type": "stream",
     "text": [
      "9699690\n",
      "[('0', 71076), ('1', 35485), ('2', 88637), ('3', 106189), ('4', 17918), ('5', 109795), ('6', 56795), ('7', 120569)]\n",
      "[('7', 120569), ('5', 109795)]\n",
      "120569 109795 13237873355\n"
     ]
    }
   ],
   "source": [
    "monkeys = read_file(\"input\")\n",
    "\n",
    "rounds = 10000\n",
    "\n",
    "primes_prod = 1\n",
    "for v in monkeys.values():\n",
    "    primes_prod *= v[\"test\"]\n",
    "\n",
    "print(primes_prod)\n",
    "for r in range(rounds):\n",
    "    # if r % 100 == 0: print(r)\n",
    "        \n",
    "    for k,v in monkeys.items():\n",
    "        v[\"curr_ctr\"] = 0\n",
    "        for _ in range(len(v[\"items\"])):\n",
    "            worry = v[\"items\"].pop(0)\n",
    "            v[\"ctr\"] += 1\n",
    "            v[\"curr_ctr\"] += 1\n",
    "            qt = v[\"quant\"] if v[\"quant\"] != \"-9\" else worry\n",
    "\n",
    "            match(v[\"symbol\"]):\n",
    "                case \"*\": worry *= qt\n",
    "                case \"+\": worry += qt\n",
    "                case \"-\": worry -= qt\n",
    "            \n",
    "            # smol_worry = worry // 3\n",
    "            \n",
    "            if worry % v[\"test\"] == 0:\n",
    "                monkeys[v[\"true\"]][\"items\"].append(worry % primes_prod)\n",
    "            else:\n",
    "                monkeys[v[\"false\"]][\"items\"].append(worry % primes_prod)\n",
    "    \n",
    "    # lens = [(k, monkeys[k][\"ctr\"]) for k in monkeys.keys()]\n",
    "    # print(lens)\n",
    "    # lens = [monkeys[k][\"curr_ctr\"] for k in monkeys.keys()]\n",
    "    # print(r, lens)\n",
    "\n",
    "lens = [(k, monkeys[k][\"ctr\"]) for k,v in monkeys.items()]\n",
    "print(lens)\n",
    "lens.sort(key=lambda x:x[1], reverse=True)\n",
    "print(lens[:2])\n",
    "\n",
    "print(monkeys[lens[0][0]][\"ctr\"] ,monkeys[lens[1][0]][\"ctr\"], monkeys[lens[0][0]][\"ctr\"] * monkeys[lens[1][0]][\"ctr\"])\n",
    "\n",
    "# for k,v in monkeys.items():\n",
    "#     print(f\"{k} {v['items']}\")"
   ]
  }
 ],
 "metadata": {
  "kernelspec": {
   "display_name": "Python 3.10.8 ('aocvenv': venv)",
   "language": "python",
   "name": "python3"
  },
  "language_info": {
   "codemirror_mode": {
    "name": "ipython",
    "version": 3
   },
   "file_extension": ".py",
   "mimetype": "text/x-python",
   "name": "python",
   "nbconvert_exporter": "python",
   "pygments_lexer": "ipython3",
   "version": "3.10.8"
  },
  "vscode": {
   "interpreter": {
    "hash": "17d45d902f223ac22e5baa2f455e7a39a0a6b596c8d9b9cbb1366779072fe04f"
   }
  }
 },
 "nbformat": 4,
 "nbformat_minor": 5
}
