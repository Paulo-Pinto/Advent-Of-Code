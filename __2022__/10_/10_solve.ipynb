{
 "cells": [
  {
   "cell_type": "code",
   "execution_count": 6,
   "id": "d4c99951",
   "metadata": {},
   "outputs": [
    {
     "name": "stdout",
     "output_type": "stream",
     "text": [
      "[340, 1020, 2100, 2940, 1620, 4620] 12640\n"
     ]
    },
    {
     "data": {
      "text/plain": [
       "12640"
      ]
     },
     "execution_count": 6,
     "metadata": {},
     "output_type": "execute_result"
    }
   ],
   "source": [
    "import re\n",
    "\n",
    "\n",
    "def cycle(i, x, signals):\n",
    "    i += 1\n",
    "    if (i - 20) % 40 == 0:\n",
    "        # print(f\"{x=} {i=} {x * i=}\")\n",
    "        signals.append(x * i)\n",
    "    return i, signals\n",
    "\n",
    "\n",
    "def read_file(filename=\"test\"):\n",
    "\n",
    "    i = -1\n",
    "    x = 1\n",
    "    saved = []\n",
    "    signals = []\n",
    "    with open(filename) as fp:\n",
    "        for line in fp.read().splitlines():\n",
    "            i, signals = cycle(i, x, signals)\n",
    "\n",
    "            line = re.split(\" \", line)\n",
    "\n",
    "            for s in saved:\n",
    "                if s[0] == i:\n",
    "                    x += s[1]\n",
    "                    saved.pop(0)\n",
    "                    break\n",
    "\n",
    "            if line[0] == \"addx\":\n",
    "                saved.append((i + 2, int(line[1])))\n",
    "                i, signals = cycle(i, x, signals)\n",
    "\n",
    "        print(signals, sum(signals))\n",
    "        return sum(signals)\n",
    "\n",
    "\n",
    "read_file(\"input\")"
   ]
  },
  {
   "cell_type": "code",
   "execution_count": 18,
   "id": "94b832e8",
   "metadata": {},
   "outputs": [
    {
     "name": "stdout",
     "output_type": "stream",
     "text": [
      "x=17 i=20 x * i=340\n",
      "x=17 i=60 x * i=1020\n",
      "x=21 i=100 x * i=2100\n",
      "x=21 i=140 x * i=2940\n",
      "x=9 i=180 x * i=1620\n",
      "x=21 i=220 x * i=4620\n",
      "[340, 1020, 2100, 2940, 1620, 4620] 12640\n",
      "[['▓' '▓' '▓' '▓' '.' '▓' '.' '.' '▓' '.' '▓' '▓' '▓' '.' '.' '▓' '▓' '▓' '▓' '.' '▓' '.' '.' '.' '.' '▓' '▓' '▓' '.' '.' '.' '.' '▓' '▓' '.' '▓' '▓' '▓' '.' '.']\n",
      " ['▓' '.' '.' '.' '.' '▓' '.' '.' '▓' '.' '▓' '.' '.' '▓' '.' '.' '.' '.' '▓' '.' '▓' '.' '.' '.' '.' '▓' '.' '.' '▓' '.' '.' '.' '.' '▓' '.' '▓' '.' '.' '▓' '.']\n",
      " ['▓' '▓' '▓' '.' '.' '▓' '▓' '▓' '▓' '.' '▓' '▓' '▓' '.' '.' '.' '.' '▓' '.' '.' '▓' '.' '.' '.' '.' '▓' '.' '.' '▓' '.' '.' '.' '.' '▓' '.' '▓' '.' '.' '▓' '.']\n",
      " ['▓' '.' '.' '.' '.' '▓' '.' '.' '▓' '.' '▓' '.' '.' '▓' '.' '.' '▓' '.' '.' '.' '▓' '.' '.' '.' '.' '▓' '▓' '▓' '.' '.' '.' '.' '.' '▓' '.' '▓' '▓' '▓' '.' '.']\n",
      " ['▓' '.' '.' '.' '.' '▓' '.' '.' '▓' '.' '▓' '.' '.' '▓' '.' '▓' '.' '.' '.' '.' '▓' '.' '.' '.' '.' '▓' '.' '▓' '.' '.' '▓' '.' '.' '▓' '.' '▓' '.' '▓' '.' '.']\n",
      " ['▓' '▓' '▓' '▓' '.' '▓' '.' '.' '▓' '.' '▓' '▓' '▓' '.' '.' '▓' '▓' '▓' '▓' '.' '▓' '▓' '▓' '▓' '.' '▓' '.' '.' '▓' '.' '.' '▓' '▓' '.' '.' '▓' '.' '.' '▓' '.']]\n"
     ]
    }
   ],
   "source": [
    "import numpy as np\n",
    "from math import floor\n",
    "\n",
    "cycle = 0\n",
    "\n",
    "wide, tall = 40, 6\n",
    "grid = [[*\".\" * wide] for _ in range(tall)]\n",
    "\n",
    "sprite = [*\".\" * wide]\n",
    "\n",
    "\n",
    "def cycle2(i, x, signals):\n",
    "    i += 1\n",
    "    if (i - 20) % 40 == 0:\n",
    "        # print(f\"{x=} {i=} {x * i=}\")\n",
    "        signals.append(x * i)\n",
    "    return i, signals\n",
    "\n",
    "\n",
    "def pt2(filename=\"test\"):\n",
    "    i = -1\n",
    "    x = 1\n",
    "    saved = []\n",
    "    signals = []\n",
    "    with open(filename) as fp:\n",
    "        for line in fp.read().splitlines():\n",
    "            line = re.split(\" \", line)\n",
    "\n",
    "            i += 1\n",
    "\n",
    "            if (i - 20) % 40 == 0:\n",
    "                print(f\"{x=} {i=} {x * i=}\")\n",
    "                signals.append(x * i)\n",
    "\n",
    "            for s in saved:\n",
    "                if s[0] == i:\n",
    "                    x += s[1]\n",
    "                    saved.pop(0)\n",
    "                    break\n",
    "\n",
    "            sprite = [*\".\" * wide]\n",
    "            for n in range(max(0, x - 1), min(len(sprite), x + 2)):\n",
    "                sprite[n] = \"▓\"\n",
    "\n",
    "            grid[(i // 40)][i % 40] = sprite[i % 40]\n",
    "\n",
    "            if line[0] == \"addx\":\n",
    "                saved.append((i + 2, int(line[1])))\n",
    "                i += 1\n",
    "                if (i - 20) % 40 == 0:\n",
    "                    print(f\"{x=} {i=} {x * i=}\")\n",
    "                    signals.append(x * i)\n",
    "                for s in saved:\n",
    "                    if s[0] == i:\n",
    "                        x += s[1]\n",
    "                        saved.pop(0)\n",
    "                        break\n",
    "                sprite = [*\".\" * wide]\n",
    "                for n in range(max(0, x - 1), min(len(sprite), x + 2)):\n",
    "                    sprite[n] = \"▓\"\n",
    "\n",
    "                grid[(i // 40)][i % 40] = sprite[i % 40]\n",
    "\n",
    "        print(signals, sum(signals))\n",
    "        return sum(signals)\n",
    "\n",
    "\n",
    "pt2(\"input\")\n",
    "np.set_printoptions(edgeitems=25, linewidth=1000)\n",
    "print(np.matrix(grid))"
   ]
  }
 ],
 "metadata": {
  "kernelspec": {
   "display_name": "Python 3.10.8 ('aocvenv': venv)",
   "language": "python",
   "name": "python3"
  },
  "language_info": {
   "codemirror_mode": {
    "name": "ipython",
    "version": 3
   },
   "file_extension": ".py",
   "mimetype": "text/x-python",
   "name": "python",
   "nbconvert_exporter": "python",
   "pygments_lexer": "ipython3",
   "version": "3.10.8"
  },
  "vscode": {
   "interpreter": {
    "hash": "17d45d902f223ac22e5baa2f455e7a39a0a6b596c8d9b9cbb1366779072fe04f"
   }
  }
 },
 "nbformat": 4,
 "nbformat_minor": 5
}
